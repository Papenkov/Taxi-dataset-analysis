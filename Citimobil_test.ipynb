{
 "cells": [
  {
   "cell_type": "markdown",
   "metadata": {},
   "source": [
    "# Описание.\n",
    "\n",
    "Есть датасет о совершенных поездках в такси в Нью-Йорке. Предлагается на основе этих данных решить следующие задачи:\n",
    "\n",
    "1. Оценить корреляцию стоимости поездки с другими факторами.\n",
    "\n",
    "2. Найти аномальные поездки и объяснить почему именно эти поездки аномальные.\n",
    "\n",
    "3. Построить распределение по стоимости поездок. Проверить гипотезу о том, что оно имеет нормальное распределение. Объяснить полученные результаты.\n",
    "\n",
    "4. Из данных постройте модель, которая описывает тариф (т.е. стоимость поездки от других факторов).\n",
    "\n",
    "5. Используя модель из пункта выше ответьте на вопрос: были ли в какие-то дни (или временные промежутки) скидки или акции? И если  были, то как это можно объяснить.\n",
    "\n",
    "Датасет и его описание доступны по ссылке: https://www1.nyc.gov/site/tlc/about/tlc-trip-record-data.page"
   ]
  },
  {
   "cell_type": "markdown",
   "metadata": {},
   "source": [
    "Сделаем необходимые импорты"
   ]
  },
  {
   "cell_type": "code",
   "execution_count": 2,
   "metadata": {},
   "outputs": [],
   "source": [
    "# Imports\n",
    "import pandas as pd\n",
    "import matplotlib.pyplot as plt\n",
    "import seaborn as sns\n",
    "%matplotlib inline\n",
    "import numpy as np\n",
    "sns.set_style('whitegrid')\n",
    "\n",
    "import warnings\n",
    "warnings.filterwarnings('ignore')"
   ]
  },
  {
   "cell_type": "markdown",
   "metadata": {},
   "source": [
    "# Загрузка данных и первая аналитика."
   ]
  },
  {
   "cell_type": "markdown",
   "metadata": {},
   "source": [
    "Загрузим датасет. Я буду пользоваться датасетом за январь 2020 года \"green_tripdata_2020-01\" (https://s3.amazonaws.com/nyc-tlc/trip+data/green_tripdata_2020-01.csv)"
   ]
  },
  {
   "cell_type": "code",
   "execution_count": 3,
   "metadata": {},
   "outputs": [],
   "source": [
    "data = pd.read_csv('D://Downloads/green_tripdata_2020-01.csv', parse_dates=['lpep_pickup_datetime', 'lpep_dropoff_datetime'])"
   ]
  },
  {
   "cell_type": "markdown",
   "metadata": {},
   "source": [
    "Я уже посмотрел датасет заранее и сразу при загрузке данных конвертирую некоторые колонки в формат datetime для удобной работы с помощью \"date_parser\""
   ]
  },
  {
   "cell_type": "code",
   "execution_count": 4,
   "metadata": {
    "scrolled": true
   },
   "outputs": [
    {
     "data": {
      "text/html": [
       "<div>\n",
       "<style scoped>\n",
       "    .dataframe tbody tr th:only-of-type {\n",
       "        vertical-align: middle;\n",
       "    }\n",
       "\n",
       "    .dataframe tbody tr th {\n",
       "        vertical-align: top;\n",
       "    }\n",
       "\n",
       "    .dataframe thead th {\n",
       "        text-align: right;\n",
       "    }\n",
       "</style>\n",
       "<table border=\"1\" class=\"dataframe\">\n",
       "  <thead>\n",
       "    <tr style=\"text-align: right;\">\n",
       "      <th></th>\n",
       "      <th>VendorID</th>\n",
       "      <th>lpep_pickup_datetime</th>\n",
       "      <th>lpep_dropoff_datetime</th>\n",
       "      <th>store_and_fwd_flag</th>\n",
       "      <th>RatecodeID</th>\n",
       "      <th>PULocationID</th>\n",
       "      <th>DOLocationID</th>\n",
       "      <th>passenger_count</th>\n",
       "      <th>trip_distance</th>\n",
       "      <th>fare_amount</th>\n",
       "      <th>extra</th>\n",
       "      <th>mta_tax</th>\n",
       "      <th>tip_amount</th>\n",
       "      <th>tolls_amount</th>\n",
       "      <th>ehail_fee</th>\n",
       "      <th>improvement_surcharge</th>\n",
       "      <th>total_amount</th>\n",
       "      <th>payment_type</th>\n",
       "      <th>trip_type</th>\n",
       "      <th>congestion_surcharge</th>\n",
       "    </tr>\n",
       "  </thead>\n",
       "  <tbody>\n",
       "    <tr>\n",
       "      <th>0</th>\n",
       "      <td>2.0</td>\n",
       "      <td>2019-12-18 15:52:30</td>\n",
       "      <td>2019-12-18 15:54:39</td>\n",
       "      <td>N</td>\n",
       "      <td>1.0</td>\n",
       "      <td>264</td>\n",
       "      <td>264</td>\n",
       "      <td>5.0</td>\n",
       "      <td>0.00</td>\n",
       "      <td>3.5</td>\n",
       "      <td>0.50</td>\n",
       "      <td>0.5</td>\n",
       "      <td>0.01</td>\n",
       "      <td>0.0</td>\n",
       "      <td>NaN</td>\n",
       "      <td>0.3</td>\n",
       "      <td>4.81</td>\n",
       "      <td>1.0</td>\n",
       "      <td>1.0</td>\n",
       "      <td>0.00</td>\n",
       "    </tr>\n",
       "    <tr>\n",
       "      <th>1</th>\n",
       "      <td>2.0</td>\n",
       "      <td>2020-01-01 00:45:58</td>\n",
       "      <td>2020-01-01 00:56:39</td>\n",
       "      <td>N</td>\n",
       "      <td>5.0</td>\n",
       "      <td>66</td>\n",
       "      <td>65</td>\n",
       "      <td>2.0</td>\n",
       "      <td>1.28</td>\n",
       "      <td>20.0</td>\n",
       "      <td>0.00</td>\n",
       "      <td>0.0</td>\n",
       "      <td>4.06</td>\n",
       "      <td>0.0</td>\n",
       "      <td>NaN</td>\n",
       "      <td>0.3</td>\n",
       "      <td>24.36</td>\n",
       "      <td>1.0</td>\n",
       "      <td>2.0</td>\n",
       "      <td>0.00</td>\n",
       "    </tr>\n",
       "    <tr>\n",
       "      <th>2</th>\n",
       "      <td>2.0</td>\n",
       "      <td>2020-01-01 00:41:38</td>\n",
       "      <td>2020-01-01 00:52:49</td>\n",
       "      <td>N</td>\n",
       "      <td>1.0</td>\n",
       "      <td>181</td>\n",
       "      <td>228</td>\n",
       "      <td>1.0</td>\n",
       "      <td>2.47</td>\n",
       "      <td>10.5</td>\n",
       "      <td>0.50</td>\n",
       "      <td>0.5</td>\n",
       "      <td>3.54</td>\n",
       "      <td>0.0</td>\n",
       "      <td>NaN</td>\n",
       "      <td>0.3</td>\n",
       "      <td>15.34</td>\n",
       "      <td>1.0</td>\n",
       "      <td>1.0</td>\n",
       "      <td>0.00</td>\n",
       "    </tr>\n",
       "    <tr>\n",
       "      <th>3</th>\n",
       "      <td>1.0</td>\n",
       "      <td>2020-01-01 00:52:46</td>\n",
       "      <td>2020-01-01 01:14:21</td>\n",
       "      <td>N</td>\n",
       "      <td>1.0</td>\n",
       "      <td>129</td>\n",
       "      <td>263</td>\n",
       "      <td>2.0</td>\n",
       "      <td>6.30</td>\n",
       "      <td>21.0</td>\n",
       "      <td>3.25</td>\n",
       "      <td>0.5</td>\n",
       "      <td>0.00</td>\n",
       "      <td>0.0</td>\n",
       "      <td>NaN</td>\n",
       "      <td>0.3</td>\n",
       "      <td>25.05</td>\n",
       "      <td>2.0</td>\n",
       "      <td>1.0</td>\n",
       "      <td>2.75</td>\n",
       "    </tr>\n",
       "    <tr>\n",
       "      <th>4</th>\n",
       "      <td>1.0</td>\n",
       "      <td>2020-01-01 00:19:57</td>\n",
       "      <td>2020-01-01 00:30:56</td>\n",
       "      <td>N</td>\n",
       "      <td>1.0</td>\n",
       "      <td>210</td>\n",
       "      <td>150</td>\n",
       "      <td>1.0</td>\n",
       "      <td>2.30</td>\n",
       "      <td>10.0</td>\n",
       "      <td>0.50</td>\n",
       "      <td>0.5</td>\n",
       "      <td>0.00</td>\n",
       "      <td>0.0</td>\n",
       "      <td>NaN</td>\n",
       "      <td>0.3</td>\n",
       "      <td>11.30</td>\n",
       "      <td>1.0</td>\n",
       "      <td>1.0</td>\n",
       "      <td>0.00</td>\n",
       "    </tr>\n",
       "  </tbody>\n",
       "</table>\n",
       "</div>"
      ],
      "text/plain": [
       "   VendorID lpep_pickup_datetime lpep_dropoff_datetime store_and_fwd_flag  \\\n",
       "0       2.0  2019-12-18 15:52:30   2019-12-18 15:54:39                  N   \n",
       "1       2.0  2020-01-01 00:45:58   2020-01-01 00:56:39                  N   \n",
       "2       2.0  2020-01-01 00:41:38   2020-01-01 00:52:49                  N   \n",
       "3       1.0  2020-01-01 00:52:46   2020-01-01 01:14:21                  N   \n",
       "4       1.0  2020-01-01 00:19:57   2020-01-01 00:30:56                  N   \n",
       "\n",
       "   RatecodeID  PULocationID  DOLocationID  passenger_count  trip_distance  \\\n",
       "0         1.0           264           264              5.0           0.00   \n",
       "1         5.0            66            65              2.0           1.28   \n",
       "2         1.0           181           228              1.0           2.47   \n",
       "3         1.0           129           263              2.0           6.30   \n",
       "4         1.0           210           150              1.0           2.30   \n",
       "\n",
       "   fare_amount  extra  mta_tax  tip_amount  tolls_amount  ehail_fee  \\\n",
       "0          3.5   0.50      0.5        0.01           0.0        NaN   \n",
       "1         20.0   0.00      0.0        4.06           0.0        NaN   \n",
       "2         10.5   0.50      0.5        3.54           0.0        NaN   \n",
       "3         21.0   3.25      0.5        0.00           0.0        NaN   \n",
       "4         10.0   0.50      0.5        0.00           0.0        NaN   \n",
       "\n",
       "   improvement_surcharge  total_amount  payment_type  trip_type  \\\n",
       "0                    0.3          4.81           1.0        1.0   \n",
       "1                    0.3         24.36           1.0        2.0   \n",
       "2                    0.3         15.34           1.0        1.0   \n",
       "3                    0.3         25.05           2.0        1.0   \n",
       "4                    0.3         11.30           1.0        1.0   \n",
       "\n",
       "   congestion_surcharge  \n",
       "0                  0.00  \n",
       "1                  0.00  \n",
       "2                  0.00  \n",
       "3                  2.75  \n",
       "4                  0.00  "
      ]
     },
     "execution_count": 4,
     "metadata": {},
     "output_type": "execute_result"
    }
   ],
   "source": [
    "data.head()"
   ]
  },
  {
   "cell_type": "markdown",
   "metadata": {},
   "source": [
    "Подробное описание каждого столбца находится по ссылке: https://www1.nyc.gov/assets/tlc/downloads/pdf/data_dictionary_trip_records_green.pdf"
   ]
  },
  {
   "cell_type": "code",
   "execution_count": 5,
   "metadata": {
    "scrolled": false
   },
   "outputs": [
    {
     "name": "stdout",
     "output_type": "stream",
     "text": [
      "<class 'pandas.core.frame.DataFrame'>\n",
      "RangeIndex: 447770 entries, 0 to 447769\n",
      "Data columns (total 20 columns):\n",
      " #   Column                 Non-Null Count   Dtype         \n",
      "---  ------                 --------------   -----         \n",
      " 0   VendorID               331719 non-null  float64       \n",
      " 1   lpep_pickup_datetime   447770 non-null  datetime64[ns]\n",
      " 2   lpep_dropoff_datetime  447770 non-null  datetime64[ns]\n",
      " 3   store_and_fwd_flag     331719 non-null  object        \n",
      " 4   RatecodeID             331719 non-null  float64       \n",
      " 5   PULocationID           447770 non-null  int64         \n",
      " 6   DOLocationID           447770 non-null  int64         \n",
      " 7   passenger_count        331719 non-null  float64       \n",
      " 8   trip_distance          447770 non-null  float64       \n",
      " 9   fare_amount            447770 non-null  float64       \n",
      " 10  extra                  447770 non-null  float64       \n",
      " 11  mta_tax                447770 non-null  float64       \n",
      " 12  tip_amount             447770 non-null  float64       \n",
      " 13  tolls_amount           447770 non-null  float64       \n",
      " 14  ehail_fee              0 non-null       float64       \n",
      " 15  improvement_surcharge  447770 non-null  float64       \n",
      " 16  total_amount           447770 non-null  float64       \n",
      " 17  payment_type           331719 non-null  float64       \n",
      " 18  trip_type              331718 non-null  float64       \n",
      " 19  congestion_surcharge   331719 non-null  float64       \n",
      "dtypes: datetime64[ns](2), float64(15), int64(2), object(1)\n",
      "memory usage: 66.6+ MB\n"
     ]
    }
   ],
   "source": [
    "data.info()"
   ]
  },
  {
   "cell_type": "markdown",
   "metadata": {},
   "source": [
    "Из info видно, что имеется только 1 столбец object, все остальные признаки численные (int, float, datetime)"
   ]
  },
  {
   "cell_type": "code",
   "execution_count": 6,
   "metadata": {},
   "outputs": [
    {
     "data": {
      "text/plain": [
       "VendorID                 116051\n",
       "lpep_pickup_datetime          0\n",
       "lpep_dropoff_datetime         0\n",
       "store_and_fwd_flag       116051\n",
       "RatecodeID               116051\n",
       "PULocationID                  0\n",
       "DOLocationID                  0\n",
       "passenger_count          116051\n",
       "trip_distance                 0\n",
       "fare_amount                   0\n",
       "extra                         0\n",
       "mta_tax                       0\n",
       "tip_amount                    0\n",
       "tolls_amount                  0\n",
       "ehail_fee                447770\n",
       "improvement_surcharge         0\n",
       "total_amount                  0\n",
       "payment_type             116051\n",
       "trip_type                116052\n",
       "congestion_surcharge     116051\n",
       "dtype: int64"
      ]
     },
     "execution_count": 6,
     "metadata": {},
     "output_type": "execute_result"
    }
   ],
   "source": [
    "# Постмотрим на пропущенные значения\n",
    "data.isnull().sum()"
   ]
  },
  {
   "cell_type": "markdown",
   "metadata": {},
   "source": [
    "Колонка \"ehail_fee\" полностью пустая, удаляем ее. Остальные пропущенные значения обработаем позже"
   ]
  },
  {
   "cell_type": "code",
   "execution_count": 7,
   "metadata": {},
   "outputs": [],
   "source": [
    "data.drop(\"ehail_fee\", inplace=True, axis=1)"
   ]
  },
  {
   "cell_type": "code",
   "execution_count": 8,
   "metadata": {},
   "outputs": [
    {
     "data": {
      "text/html": [
       "<div>\n",
       "<style scoped>\n",
       "    .dataframe tbody tr th:only-of-type {\n",
       "        vertical-align: middle;\n",
       "    }\n",
       "\n",
       "    .dataframe tbody tr th {\n",
       "        vertical-align: top;\n",
       "    }\n",
       "\n",
       "    .dataframe thead th {\n",
       "        text-align: right;\n",
       "    }\n",
       "</style>\n",
       "<table border=\"1\" class=\"dataframe\">\n",
       "  <thead>\n",
       "    <tr style=\"text-align: right;\">\n",
       "      <th></th>\n",
       "      <th>VendorID</th>\n",
       "      <th>lpep_pickup_datetime</th>\n",
       "      <th>lpep_dropoff_datetime</th>\n",
       "      <th>store_and_fwd_flag</th>\n",
       "      <th>RatecodeID</th>\n",
       "      <th>PULocationID</th>\n",
       "      <th>DOLocationID</th>\n",
       "      <th>passenger_count</th>\n",
       "      <th>trip_distance</th>\n",
       "      <th>fare_amount</th>\n",
       "      <th>extra</th>\n",
       "      <th>mta_tax</th>\n",
       "      <th>tip_amount</th>\n",
       "      <th>tolls_amount</th>\n",
       "      <th>improvement_surcharge</th>\n",
       "      <th>total_amount</th>\n",
       "      <th>payment_type</th>\n",
       "      <th>trip_type</th>\n",
       "      <th>congestion_surcharge</th>\n",
       "    </tr>\n",
       "  </thead>\n",
       "  <tbody>\n",
       "    <tr>\n",
       "      <th>0</th>\n",
       "      <td>2.0</td>\n",
       "      <td>2019-12-18 15:52:30</td>\n",
       "      <td>2019-12-18 15:54:39</td>\n",
       "      <td>N</td>\n",
       "      <td>1.0</td>\n",
       "      <td>264</td>\n",
       "      <td>264</td>\n",
       "      <td>5.0</td>\n",
       "      <td>0.00</td>\n",
       "      <td>3.5</td>\n",
       "      <td>0.50</td>\n",
       "      <td>0.5</td>\n",
       "      <td>0.01</td>\n",
       "      <td>0.0</td>\n",
       "      <td>0.3</td>\n",
       "      <td>4.81</td>\n",
       "      <td>1.0</td>\n",
       "      <td>1.0</td>\n",
       "      <td>0.00</td>\n",
       "    </tr>\n",
       "    <tr>\n",
       "      <th>1</th>\n",
       "      <td>2.0</td>\n",
       "      <td>2020-01-01 00:45:58</td>\n",
       "      <td>2020-01-01 00:56:39</td>\n",
       "      <td>N</td>\n",
       "      <td>5.0</td>\n",
       "      <td>66</td>\n",
       "      <td>65</td>\n",
       "      <td>2.0</td>\n",
       "      <td>1.28</td>\n",
       "      <td>20.0</td>\n",
       "      <td>0.00</td>\n",
       "      <td>0.0</td>\n",
       "      <td>4.06</td>\n",
       "      <td>0.0</td>\n",
       "      <td>0.3</td>\n",
       "      <td>24.36</td>\n",
       "      <td>1.0</td>\n",
       "      <td>2.0</td>\n",
       "      <td>0.00</td>\n",
       "    </tr>\n",
       "    <tr>\n",
       "      <th>2</th>\n",
       "      <td>2.0</td>\n",
       "      <td>2020-01-01 00:41:38</td>\n",
       "      <td>2020-01-01 00:52:49</td>\n",
       "      <td>N</td>\n",
       "      <td>1.0</td>\n",
       "      <td>181</td>\n",
       "      <td>228</td>\n",
       "      <td>1.0</td>\n",
       "      <td>2.47</td>\n",
       "      <td>10.5</td>\n",
       "      <td>0.50</td>\n",
       "      <td>0.5</td>\n",
       "      <td>3.54</td>\n",
       "      <td>0.0</td>\n",
       "      <td>0.3</td>\n",
       "      <td>15.34</td>\n",
       "      <td>1.0</td>\n",
       "      <td>1.0</td>\n",
       "      <td>0.00</td>\n",
       "    </tr>\n",
       "    <tr>\n",
       "      <th>3</th>\n",
       "      <td>1.0</td>\n",
       "      <td>2020-01-01 00:52:46</td>\n",
       "      <td>2020-01-01 01:14:21</td>\n",
       "      <td>N</td>\n",
       "      <td>1.0</td>\n",
       "      <td>129</td>\n",
       "      <td>263</td>\n",
       "      <td>2.0</td>\n",
       "      <td>6.30</td>\n",
       "      <td>21.0</td>\n",
       "      <td>3.25</td>\n",
       "      <td>0.5</td>\n",
       "      <td>0.00</td>\n",
       "      <td>0.0</td>\n",
       "      <td>0.3</td>\n",
       "      <td>25.05</td>\n",
       "      <td>2.0</td>\n",
       "      <td>1.0</td>\n",
       "      <td>2.75</td>\n",
       "    </tr>\n",
       "    <tr>\n",
       "      <th>4</th>\n",
       "      <td>1.0</td>\n",
       "      <td>2020-01-01 00:19:57</td>\n",
       "      <td>2020-01-01 00:30:56</td>\n",
       "      <td>N</td>\n",
       "      <td>1.0</td>\n",
       "      <td>210</td>\n",
       "      <td>150</td>\n",
       "      <td>1.0</td>\n",
       "      <td>2.30</td>\n",
       "      <td>10.0</td>\n",
       "      <td>0.50</td>\n",
       "      <td>0.5</td>\n",
       "      <td>0.00</td>\n",
       "      <td>0.0</td>\n",
       "      <td>0.3</td>\n",
       "      <td>11.30</td>\n",
       "      <td>1.0</td>\n",
       "      <td>1.0</td>\n",
       "      <td>0.00</td>\n",
       "    </tr>\n",
       "  </tbody>\n",
       "</table>\n",
       "</div>"
      ],
      "text/plain": [
       "   VendorID lpep_pickup_datetime lpep_dropoff_datetime store_and_fwd_flag  \\\n",
       "0       2.0  2019-12-18 15:52:30   2019-12-18 15:54:39                  N   \n",
       "1       2.0  2020-01-01 00:45:58   2020-01-01 00:56:39                  N   \n",
       "2       2.0  2020-01-01 00:41:38   2020-01-01 00:52:49                  N   \n",
       "3       1.0  2020-01-01 00:52:46   2020-01-01 01:14:21                  N   \n",
       "4       1.0  2020-01-01 00:19:57   2020-01-01 00:30:56                  N   \n",
       "\n",
       "   RatecodeID  PULocationID  DOLocationID  passenger_count  trip_distance  \\\n",
       "0         1.0           264           264              5.0           0.00   \n",
       "1         5.0            66            65              2.0           1.28   \n",
       "2         1.0           181           228              1.0           2.47   \n",
       "3         1.0           129           263              2.0           6.30   \n",
       "4         1.0           210           150              1.0           2.30   \n",
       "\n",
       "   fare_amount  extra  mta_tax  tip_amount  tolls_amount  \\\n",
       "0          3.5   0.50      0.5        0.01           0.0   \n",
       "1         20.0   0.00      0.0        4.06           0.0   \n",
       "2         10.5   0.50      0.5        3.54           0.0   \n",
       "3         21.0   3.25      0.5        0.00           0.0   \n",
       "4         10.0   0.50      0.5        0.00           0.0   \n",
       "\n",
       "   improvement_surcharge  total_amount  payment_type  trip_type  \\\n",
       "0                    0.3          4.81           1.0        1.0   \n",
       "1                    0.3         24.36           1.0        2.0   \n",
       "2                    0.3         15.34           1.0        1.0   \n",
       "3                    0.3         25.05           2.0        1.0   \n",
       "4                    0.3         11.30           1.0        1.0   \n",
       "\n",
       "   congestion_surcharge  \n",
       "0                  0.00  \n",
       "1                  0.00  \n",
       "2                  0.00  \n",
       "3                  2.75  \n",
       "4                  0.00  "
      ]
     },
     "execution_count": 8,
     "metadata": {},
     "output_type": "execute_result"
    }
   ],
   "source": [
    "data.head()"
   ]
  },
  {
   "cell_type": "markdown",
   "metadata": {},
   "source": [
    "Хотя все данные представлены численным типом (int, float) некоторые переменные являются категориальными (имеют небольшое/ограниченное число значений). Давайте проверим что это за колонки и создадим 2 списка: с категориальными и количественными признаками (cat_cols, num_cols соответственно)."
   ]
  },
  {
   "cell_type": "code",
   "execution_count": 9,
   "metadata": {},
   "outputs": [
    {
     "name": "stdout",
     "output_type": "stream",
     "text": [
      "Колонка \"VendorID\" имеет значений: 2\n",
      "Колонка \"lpep_pickup_datetime\" имеет значений: 331157\n",
      "Колонка \"lpep_dropoff_datetime\" имеет значений: 331043\n",
      "Колонка \"store_and_fwd_flag\" имеет значений: 2\n",
      "Колонка \"RatecodeID\" имеет значений: 7\n",
      "Колонка \"PULocationID\" имеет значений: 251\n",
      "Колонка \"DOLocationID\" имеет значений: 257\n",
      "Колонка \"passenger_count\" имеет значений: 10\n",
      "Колонка \"trip_distance\" имеет значений: 3555\n",
      "Колонка \"fare_amount\" имеет значений: 6037\n",
      "Колонка \"extra\" имеет значений: 13\n",
      "Колонка \"mta_tax\" имеет значений: 4\n",
      "Колонка \"tip_amount\" имеет значений: 1468\n",
      "Колонка \"tolls_amount\" имеет значений: 94\n",
      "Колонка \"improvement_surcharge\" имеет значений: 3\n",
      "Колонка \"total_amount\" имеет значений: 7072\n",
      "Колонка \"payment_type\" имеет значений: 5\n",
      "Колонка \"trip_type\" имеет значений: 2\n",
      "Колонка \"congestion_surcharge\" имеет значений: 5\n"
     ]
    }
   ],
   "source": [
    "cat_cols = list()\n",
    "num_cols = list()\n",
    "for col in data.columns:\n",
    "    print(f'Колонка \"{col}\" имеет значений: {data[col].nunique()}')\n",
    "    if data[col].nunique() < 8:\n",
    "        cat_cols += [col]\n",
    "    else:\n",
    "        num_cols += [col]"
   ]
  },
  {
   "cell_type": "markdown",
   "metadata": {},
   "source": [
    "Пороговое значение - 8 уникальных значений в столбце. Колонку \"passenger_count\" (количество пассажиров) пока отнесем к количественным столбцам"
   ]
  },
  {
   "cell_type": "code",
   "execution_count": 10,
   "metadata": {},
   "outputs": [
    {
     "data": {
      "text/html": [
       "<div>\n",
       "<style scoped>\n",
       "    .dataframe tbody tr th:only-of-type {\n",
       "        vertical-align: middle;\n",
       "    }\n",
       "\n",
       "    .dataframe tbody tr th {\n",
       "        vertical-align: top;\n",
       "    }\n",
       "\n",
       "    .dataframe thead th {\n",
       "        text-align: right;\n",
       "    }\n",
       "</style>\n",
       "<table border=\"1\" class=\"dataframe\">\n",
       "  <thead>\n",
       "    <tr style=\"text-align: right;\">\n",
       "      <th></th>\n",
       "      <th>count</th>\n",
       "      <th>mean</th>\n",
       "      <th>std</th>\n",
       "      <th>min</th>\n",
       "      <th>25%</th>\n",
       "      <th>50%</th>\n",
       "      <th>75%</th>\n",
       "      <th>max</th>\n",
       "    </tr>\n",
       "  </thead>\n",
       "  <tbody>\n",
       "    <tr>\n",
       "      <th>PULocationID</th>\n",
       "      <td>447770.0</td>\n",
       "      <td>108.121236</td>\n",
       "      <td>71.165956</td>\n",
       "      <td>1.00</td>\n",
       "      <td>52.00</td>\n",
       "      <td>82.00</td>\n",
       "      <td>166.00</td>\n",
       "      <td>265.00</td>\n",
       "    </tr>\n",
       "    <tr>\n",
       "      <th>DOLocationID</th>\n",
       "      <td>447770.0</td>\n",
       "      <td>128.864473</td>\n",
       "      <td>76.446125</td>\n",
       "      <td>1.00</td>\n",
       "      <td>63.00</td>\n",
       "      <td>129.00</td>\n",
       "      <td>194.00</td>\n",
       "      <td>265.00</td>\n",
       "    </tr>\n",
       "    <tr>\n",
       "      <th>passenger_count</th>\n",
       "      <td>331719.0</td>\n",
       "      <td>1.304110</td>\n",
       "      <td>0.953394</td>\n",
       "      <td>0.00</td>\n",
       "      <td>1.00</td>\n",
       "      <td>1.00</td>\n",
       "      <td>1.00</td>\n",
       "      <td>9.00</td>\n",
       "    </tr>\n",
       "    <tr>\n",
       "      <th>trip_distance</th>\n",
       "      <td>447770.0</td>\n",
       "      <td>3.599392</td>\n",
       "      <td>4.257709</td>\n",
       "      <td>-33.69</td>\n",
       "      <td>1.08</td>\n",
       "      <td>2.07</td>\n",
       "      <td>4.41</td>\n",
       "      <td>130.68</td>\n",
       "    </tr>\n",
       "    <tr>\n",
       "      <th>fare_amount</th>\n",
       "      <td>447770.0</td>\n",
       "      <td>15.839504</td>\n",
       "      <td>12.691982</td>\n",
       "      <td>-210.00</td>\n",
       "      <td>7.00</td>\n",
       "      <td>11.50</td>\n",
       "      <td>21.00</td>\n",
       "      <td>753.00</td>\n",
       "    </tr>\n",
       "    <tr>\n",
       "      <th>extra</th>\n",
       "      <td>447770.0</td>\n",
       "      <td>0.838858</td>\n",
       "      <td>1.149168</td>\n",
       "      <td>-4.50</td>\n",
       "      <td>0.00</td>\n",
       "      <td>0.50</td>\n",
       "      <td>1.00</td>\n",
       "      <td>8.25</td>\n",
       "    </tr>\n",
       "    <tr>\n",
       "      <th>tip_amount</th>\n",
       "      <td>447770.0</td>\n",
       "      <td>0.899788</td>\n",
       "      <td>2.319882</td>\n",
       "      <td>-2.80</td>\n",
       "      <td>0.00</td>\n",
       "      <td>0.00</td>\n",
       "      <td>1.46</td>\n",
       "      <td>450.00</td>\n",
       "    </tr>\n",
       "    <tr>\n",
       "      <th>tolls_amount</th>\n",
       "      <td>447770.0</td>\n",
       "      <td>0.327172</td>\n",
       "      <td>1.458425</td>\n",
       "      <td>-6.12</td>\n",
       "      <td>0.00</td>\n",
       "      <td>0.00</td>\n",
       "      <td>0.00</td>\n",
       "      <td>96.12</td>\n",
       "    </tr>\n",
       "    <tr>\n",
       "      <th>total_amount</th>\n",
       "      <td>447770.0</td>\n",
       "      <td>18.898600</td>\n",
       "      <td>14.101771</td>\n",
       "      <td>-210.30</td>\n",
       "      <td>9.12</td>\n",
       "      <td>14.40</td>\n",
       "      <td>24.55</td>\n",
       "      <td>753.80</td>\n",
       "    </tr>\n",
       "  </tbody>\n",
       "</table>\n",
       "</div>"
      ],
      "text/plain": [
       "                    count        mean        std     min    25%     50%  \\\n",
       "PULocationID     447770.0  108.121236  71.165956    1.00  52.00   82.00   \n",
       "DOLocationID     447770.0  128.864473  76.446125    1.00  63.00  129.00   \n",
       "passenger_count  331719.0    1.304110   0.953394    0.00   1.00    1.00   \n",
       "trip_distance    447770.0    3.599392   4.257709  -33.69   1.08    2.07   \n",
       "fare_amount      447770.0   15.839504  12.691982 -210.00   7.00   11.50   \n",
       "extra            447770.0    0.838858   1.149168   -4.50   0.00    0.50   \n",
       "tip_amount       447770.0    0.899788   2.319882   -2.80   0.00    0.00   \n",
       "tolls_amount     447770.0    0.327172   1.458425   -6.12   0.00    0.00   \n",
       "total_amount     447770.0   18.898600  14.101771 -210.30   9.12   14.40   \n",
       "\n",
       "                    75%     max  \n",
       "PULocationID     166.00  265.00  \n",
       "DOLocationID     194.00  265.00  \n",
       "passenger_count    1.00    9.00  \n",
       "trip_distance      4.41  130.68  \n",
       "fare_amount       21.00  753.00  \n",
       "extra              1.00    8.25  \n",
       "tip_amount         1.46  450.00  \n",
       "tolls_amount       0.00   96.12  \n",
       "total_amount      24.55  753.80  "
      ]
     },
     "execution_count": 10,
     "metadata": {},
     "output_type": "execute_result"
    }
   ],
   "source": [
    "# Посмотрим на основные статистики числовых столбцов\n",
    "\n",
    "data[num_cols].describe().T"
   ]
  },
  {
   "cell_type": "markdown",
   "metadata": {},
   "source": [
    "Сразу бросаются в глаза отрицательные значения min-статистики в колонках \"расстояния\" и \"оплаты\" (trip_distance, fare_amount, extra, tip_amount, tolls_amount, total_amount), кол-во пассажиров = 0 и некоторые max значения. Но это подробнее рассмотрим в главе аномалии."
   ]
  },
  {
   "cell_type": "markdown",
   "metadata": {},
   "source": [
    "# 1. Рассмотрим корелляцию стоимости поездки с остальными факторами"
   ]
  },
  {
   "cell_type": "code",
   "execution_count": 12,
   "metadata": {},
   "outputs": [
    {
     "data": {
      "text/html": [
       "<div>\n",
       "<style scoped>\n",
       "    .dataframe tbody tr th:only-of-type {\n",
       "        vertical-align: middle;\n",
       "    }\n",
       "\n",
       "    .dataframe tbody tr th {\n",
       "        vertical-align: top;\n",
       "    }\n",
       "\n",
       "    .dataframe thead th {\n",
       "        text-align: right;\n",
       "    }\n",
       "</style>\n",
       "<table border=\"1\" class=\"dataframe\">\n",
       "  <thead>\n",
       "    <tr style=\"text-align: right;\">\n",
       "      <th></th>\n",
       "      <th>PULocationID</th>\n",
       "      <th>DOLocationID</th>\n",
       "      <th>passenger_count</th>\n",
       "      <th>trip_distance</th>\n",
       "      <th>fare_amount</th>\n",
       "      <th>extra</th>\n",
       "      <th>tip_amount</th>\n",
       "      <th>tolls_amount</th>\n",
       "      <th>total_amount</th>\n",
       "    </tr>\n",
       "  </thead>\n",
       "  <tbody>\n",
       "    <tr>\n",
       "      <th>PULocationID</th>\n",
       "      <td>1.000000</td>\n",
       "      <td>0.143260</td>\n",
       "      <td>0.019897</td>\n",
       "      <td>0.093852</td>\n",
       "      <td>0.112294</td>\n",
       "      <td>0.067897</td>\n",
       "      <td>-0.012021</td>\n",
       "      <td>0.058152</td>\n",
       "      <td>0.105599</td>\n",
       "    </tr>\n",
       "    <tr>\n",
       "      <th>DOLocationID</th>\n",
       "      <td>0.143260</td>\n",
       "      <td>1.000000</td>\n",
       "      <td>0.010806</td>\n",
       "      <td>0.062058</td>\n",
       "      <td>0.059307</td>\n",
       "      <td>0.012021</td>\n",
       "      <td>0.077406</td>\n",
       "      <td>0.025770</td>\n",
       "      <td>0.085492</td>\n",
       "    </tr>\n",
       "    <tr>\n",
       "      <th>passenger_count</th>\n",
       "      <td>0.019897</td>\n",
       "      <td>0.010806</td>\n",
       "      <td>1.000000</td>\n",
       "      <td>0.009466</td>\n",
       "      <td>-0.006714</td>\n",
       "      <td>-0.008160</td>\n",
       "      <td>0.006240</td>\n",
       "      <td>-0.004514</td>\n",
       "      <td>-0.003582</td>\n",
       "    </tr>\n",
       "    <tr>\n",
       "      <th>trip_distance</th>\n",
       "      <td>0.093852</td>\n",
       "      <td>0.062058</td>\n",
       "      <td>0.009466</td>\n",
       "      <td>1.000000</td>\n",
       "      <td>0.835261</td>\n",
       "      <td>0.276670</td>\n",
       "      <td>0.056151</td>\n",
       "      <td>0.514307</td>\n",
       "      <td>0.834405</td>\n",
       "    </tr>\n",
       "    <tr>\n",
       "      <th>fare_amount</th>\n",
       "      <td>0.112294</td>\n",
       "      <td>0.059307</td>\n",
       "      <td>-0.006714</td>\n",
       "      <td>0.835261</td>\n",
       "      <td>1.000000</td>\n",
       "      <td>0.388232</td>\n",
       "      <td>0.032393</td>\n",
       "      <td>0.439225</td>\n",
       "      <td>0.977012</td>\n",
       "    </tr>\n",
       "    <tr>\n",
       "      <th>extra</th>\n",
       "      <td>0.067897</td>\n",
       "      <td>0.012021</td>\n",
       "      <td>-0.008160</td>\n",
       "      <td>0.276670</td>\n",
       "      <td>0.388232</td>\n",
       "      <td>1.000000</td>\n",
       "      <td>-0.110472</td>\n",
       "      <td>0.133736</td>\n",
       "      <td>0.408653</td>\n",
       "    </tr>\n",
       "    <tr>\n",
       "      <th>tip_amount</th>\n",
       "      <td>-0.012021</td>\n",
       "      <td>0.077406</td>\n",
       "      <td>0.006240</td>\n",
       "      <td>0.056151</td>\n",
       "      <td>0.032393</td>\n",
       "      <td>-0.110472</td>\n",
       "      <td>1.000000</td>\n",
       "      <td>0.015350</td>\n",
       "      <td>0.206219</td>\n",
       "    </tr>\n",
       "    <tr>\n",
       "      <th>tolls_amount</th>\n",
       "      <td>0.058152</td>\n",
       "      <td>0.025770</td>\n",
       "      <td>-0.004514</td>\n",
       "      <td>0.514307</td>\n",
       "      <td>0.439225</td>\n",
       "      <td>0.133736</td>\n",
       "      <td>0.015350</td>\n",
       "      <td>1.000000</td>\n",
       "      <td>0.506958</td>\n",
       "    </tr>\n",
       "    <tr>\n",
       "      <th>total_amount</th>\n",
       "      <td>0.105599</td>\n",
       "      <td>0.085492</td>\n",
       "      <td>-0.003582</td>\n",
       "      <td>0.834405</td>\n",
       "      <td>0.977012</td>\n",
       "      <td>0.408653</td>\n",
       "      <td>0.206219</td>\n",
       "      <td>0.506958</td>\n",
       "      <td>1.000000</td>\n",
       "    </tr>\n",
       "  </tbody>\n",
       "</table>\n",
       "</div>"
      ],
      "text/plain": [
       "                 PULocationID  DOLocationID  passenger_count  trip_distance  \\\n",
       "PULocationID         1.000000      0.143260         0.019897       0.093852   \n",
       "DOLocationID         0.143260      1.000000         0.010806       0.062058   \n",
       "passenger_count      0.019897      0.010806         1.000000       0.009466   \n",
       "trip_distance        0.093852      0.062058         0.009466       1.000000   \n",
       "fare_amount          0.112294      0.059307        -0.006714       0.835261   \n",
       "extra                0.067897      0.012021        -0.008160       0.276670   \n",
       "tip_amount          -0.012021      0.077406         0.006240       0.056151   \n",
       "tolls_amount         0.058152      0.025770        -0.004514       0.514307   \n",
       "total_amount         0.105599      0.085492        -0.003582       0.834405   \n",
       "\n",
       "                 fare_amount     extra  tip_amount  tolls_amount  total_amount  \n",
       "PULocationID        0.112294  0.067897   -0.012021      0.058152      0.105599  \n",
       "DOLocationID        0.059307  0.012021    0.077406      0.025770      0.085492  \n",
       "passenger_count    -0.006714 -0.008160    0.006240     -0.004514     -0.003582  \n",
       "trip_distance       0.835261  0.276670    0.056151      0.514307      0.834405  \n",
       "fare_amount         1.000000  0.388232    0.032393      0.439225      0.977012  \n",
       "extra               0.388232  1.000000   -0.110472      0.133736      0.408653  \n",
       "tip_amount          0.032393 -0.110472    1.000000      0.015350      0.206219  \n",
       "tolls_amount        0.439225  0.133736    0.015350      1.000000      0.506958  \n",
       "total_amount        0.977012  0.408653    0.206219      0.506958      1.000000  "
      ]
     },
     "execution_count": 12,
     "metadata": {},
     "output_type": "execute_result"
    }
   ],
   "source": [
    "data[num_cols].corr()"
   ]
  },
  {
   "cell_type": "markdown",
   "metadata": {},
   "source": [
    "Общая сумма поездки \"total_amount\". Смотрим именно на эту строчку "
   ]
  },
  {
   "cell_type": "markdown",
   "metadata": {},
   "source": [
    "### Выводы:\n",
    "- Из таблицы видно что самая сильная корреляция общей суммы с trip_distance (длинной поездки) и fare_amount (цена время-дистанции поездки рассчитанная за метр). \n",
    "- Достаточно логичный вывод: чем дальше едем, тем дороже поездка. \n",
    "- И соответственно чем выше стоимость \"за метр\", тем дороже выйдет вся поездка. \n",
    "- Также есть корреляция (0.5) с переменной tolls_amount(общие сборы во время поездки). Тоже достаточно логично: больше сборы = дороже поездка"
   ]
  },
  {
   "cell_type": "code",
   "execution_count": 13,
   "metadata": {},
   "outputs": [
    {
     "data": {
      "image/png": "[encoded data removed]",
      "text/plain": [
       "<Figure size 432x288 with 2 Axes>"
      ]
     },
     "metadata": {},
     "output_type": "display_data"
    }
   ],
   "source": [
    "# Построим для наглядности heatmap\n",
    "\n",
    "cols_for_heatmap = ['trip_distance', 'fare_amount', 'extra', 'tolls_amount', 'total_amount']\n",
    "\n",
    "sns.heatmap(data[cols_for_heatmap].corr(), annot=True)\n",
    "plt.title('Распределение наибольших корреляций с total_amount')\n",
    "plt.show()"
   ]
  },
  {
   "cell_type": "markdown",
   "metadata": {},
   "source": [
    "Здесь мы можем наблюдать как переменные скоррелированные с total_amount влияют друг на друга. У некоторых присутствует сильная корреляция"
   ]
  },
  {
   "cell_type": "markdown",
   "metadata": {},
   "source": [
    "# 2. Аномальные поездки"
   ]
  },
  {
   "cell_type": "code",
   "execution_count": 14,
   "metadata": {},
   "outputs": [
    {
     "data": {
      "text/html": [
       "<div>\n",
       "<style scoped>\n",
       "    .dataframe tbody tr th:only-of-type {\n",
       "        vertical-align: middle;\n",
       "    }\n",
       "\n",
       "    .dataframe tbody tr th {\n",
       "        vertical-align: top;\n",
       "    }\n",
       "\n",
       "    .dataframe thead th {\n",
       "        text-align: right;\n",
       "    }\n",
       "</style>\n",
       "<table border=\"1\" class=\"dataframe\">\n",
       "  <thead>\n",
       "    <tr style=\"text-align: right;\">\n",
       "      <th></th>\n",
       "      <th>count</th>\n",
       "      <th>mean</th>\n",
       "      <th>std</th>\n",
       "      <th>min</th>\n",
       "      <th>25%</th>\n",
       "      <th>50%</th>\n",
       "      <th>75%</th>\n",
       "      <th>max</th>\n",
       "    </tr>\n",
       "  </thead>\n",
       "  <tbody>\n",
       "    <tr>\n",
       "      <th>VendorID</th>\n",
       "      <td>331719.0</td>\n",
       "      <td>1.830317</td>\n",
       "      <td>0.375354</td>\n",
       "      <td>1.00</td>\n",
       "      <td>2.00</td>\n",
       "      <td>2.00</td>\n",
       "      <td>2.00</td>\n",
       "      <td>2.00</td>\n",
       "    </tr>\n",
       "    <tr>\n",
       "      <th>RatecodeID</th>\n",
       "      <td>331719.0</td>\n",
       "      <td>1.101661</td>\n",
       "      <td>0.664471</td>\n",
       "      <td>1.00</td>\n",
       "      <td>1.00</td>\n",
       "      <td>1.00</td>\n",
       "      <td>1.00</td>\n",
       "      <td>99.00</td>\n",
       "    </tr>\n",
       "    <tr>\n",
       "      <th>PULocationID</th>\n",
       "      <td>447770.0</td>\n",
       "      <td>108.121236</td>\n",
       "      <td>71.165956</td>\n",
       "      <td>1.00</td>\n",
       "      <td>52.00</td>\n",
       "      <td>82.00</td>\n",
       "      <td>166.00</td>\n",
       "      <td>265.00</td>\n",
       "    </tr>\n",
       "    <tr>\n",
       "      <th>DOLocationID</th>\n",
       "      <td>447770.0</td>\n",
       "      <td>128.864473</td>\n",
       "      <td>76.446125</td>\n",
       "      <td>1.00</td>\n",
       "      <td>63.00</td>\n",
       "      <td>129.00</td>\n",
       "      <td>194.00</td>\n",
       "      <td>265.00</td>\n",
       "    </tr>\n",
       "    <tr>\n",
       "      <th>passenger_count</th>\n",
       "      <td>331719.0</td>\n",
       "      <td>1.304110</td>\n",
       "      <td>0.953394</td>\n",
       "      <td>0.00</td>\n",
       "      <td>1.00</td>\n",
       "      <td>1.00</td>\n",
       "      <td>1.00</td>\n",
       "      <td>9.00</td>\n",
       "    </tr>\n",
       "    <tr>\n",
       "      <th>trip_distance</th>\n",
       "      <td>447770.0</td>\n",
       "      <td>3.599392</td>\n",
       "      <td>4.257709</td>\n",
       "      <td>-33.69</td>\n",
       "      <td>1.08</td>\n",
       "      <td>2.07</td>\n",
       "      <td>4.41</td>\n",
       "      <td>130.68</td>\n",
       "    </tr>\n",
       "    <tr>\n",
       "      <th>fare_amount</th>\n",
       "      <td>447770.0</td>\n",
       "      <td>15.839504</td>\n",
       "      <td>12.691982</td>\n",
       "      <td>-210.00</td>\n",
       "      <td>7.00</td>\n",
       "      <td>11.50</td>\n",
       "      <td>21.00</td>\n",
       "      <td>753.00</td>\n",
       "    </tr>\n",
       "    <tr>\n",
       "      <th>extra</th>\n",
       "      <td>447770.0</td>\n",
       "      <td>0.838858</td>\n",
       "      <td>1.149168</td>\n",
       "      <td>-4.50</td>\n",
       "      <td>0.00</td>\n",
       "      <td>0.50</td>\n",
       "      <td>1.00</td>\n",
       "      <td>8.25</td>\n",
       "    </tr>\n",
       "    <tr>\n",
       "      <th>mta_tax</th>\n",
       "      <td>447770.0</td>\n",
       "      <td>0.388785</td>\n",
       "      <td>0.210808</td>\n",
       "      <td>-0.50</td>\n",
       "      <td>0.50</td>\n",
       "      <td>0.50</td>\n",
       "      <td>0.50</td>\n",
       "      <td>3.55</td>\n",
       "    </tr>\n",
       "    <tr>\n",
       "      <th>tip_amount</th>\n",
       "      <td>447770.0</td>\n",
       "      <td>0.899788</td>\n",
       "      <td>2.319882</td>\n",
       "      <td>-2.80</td>\n",
       "      <td>0.00</td>\n",
       "      <td>0.00</td>\n",
       "      <td>1.46</td>\n",
       "      <td>450.00</td>\n",
       "    </tr>\n",
       "    <tr>\n",
       "      <th>tolls_amount</th>\n",
       "      <td>447770.0</td>\n",
       "      <td>0.327172</td>\n",
       "      <td>1.458425</td>\n",
       "      <td>-6.12</td>\n",
       "      <td>0.00</td>\n",
       "      <td>0.00</td>\n",
       "      <td>0.00</td>\n",
       "      <td>96.12</td>\n",
       "    </tr>\n",
       "    <tr>\n",
       "      <th>improvement_surcharge</th>\n",
       "      <td>447770.0</td>\n",
       "      <td>0.287046</td>\n",
       "      <td>0.064305</td>\n",
       "      <td>-0.30</td>\n",
       "      <td>0.30</td>\n",
       "      <td>0.30</td>\n",
       "      <td>0.30</td>\n",
       "      <td>0.30</td>\n",
       "    </tr>\n",
       "    <tr>\n",
       "      <th>total_amount</th>\n",
       "      <td>447770.0</td>\n",
       "      <td>18.898600</td>\n",
       "      <td>14.101771</td>\n",
       "      <td>-210.30</td>\n",
       "      <td>9.12</td>\n",
       "      <td>14.40</td>\n",
       "      <td>24.55</td>\n",
       "      <td>753.80</td>\n",
       "    </tr>\n",
       "    <tr>\n",
       "      <th>payment_type</th>\n",
       "      <td>331719.0</td>\n",
       "      <td>1.452841</td>\n",
       "      <td>0.518710</td>\n",
       "      <td>1.00</td>\n",
       "      <td>1.00</td>\n",
       "      <td>1.00</td>\n",
       "      <td>2.00</td>\n",
       "      <td>5.00</td>\n",
       "    </tr>\n",
       "    <tr>\n",
       "      <th>trip_type</th>\n",
       "      <td>331718.0</td>\n",
       "      <td>1.023032</td>\n",
       "      <td>0.150004</td>\n",
       "      <td>1.00</td>\n",
       "      <td>1.00</td>\n",
       "      <td>1.00</td>\n",
       "      <td>1.00</td>\n",
       "      <td>2.00</td>\n",
       "    </tr>\n",
       "    <tr>\n",
       "      <th>congestion_surcharge</th>\n",
       "      <td>331719.0</td>\n",
       "      <td>0.472377</td>\n",
       "      <td>1.037282</td>\n",
       "      <td>-2.75</td>\n",
       "      <td>0.00</td>\n",
       "      <td>0.00</td>\n",
       "      <td>0.00</td>\n",
       "      <td>2.75</td>\n",
       "    </tr>\n",
       "  </tbody>\n",
       "</table>\n",
       "</div>"
      ],
      "text/plain": [
       "                          count        mean        std     min    25%     50%  \\\n",
       "VendorID               331719.0    1.830317   0.375354    1.00   2.00    2.00   \n",
       "RatecodeID             331719.0    1.101661   0.664471    1.00   1.00    1.00   \n",
       "PULocationID           447770.0  108.121236  71.165956    1.00  52.00   82.00   \n",
       "DOLocationID           447770.0  128.864473  76.446125    1.00  63.00  129.00   \n",
       "passenger_count        331719.0    1.304110   0.953394    0.00   1.00    1.00   \n",
       "trip_distance          447770.0    3.599392   4.257709  -33.69   1.08    2.07   \n",
       "fare_amount            447770.0   15.839504  12.691982 -210.00   7.00   11.50   \n",
       "extra                  447770.0    0.838858   1.149168   -4.50   0.00    0.50   \n",
       "mta_tax                447770.0    0.388785   0.210808   -0.50   0.50    0.50   \n",
       "tip_amount             447770.0    0.899788   2.319882   -2.80   0.00    0.00   \n",
       "tolls_amount           447770.0    0.327172   1.458425   -6.12   0.00    0.00   \n",
       "improvement_surcharge  447770.0    0.287046   0.064305   -0.30   0.30    0.30   \n",
       "total_amount           447770.0   18.898600  14.101771 -210.30   9.12   14.40   \n",
       "payment_type           331719.0    1.452841   0.518710    1.00   1.00    1.00   \n",
       "trip_type              331718.0    1.023032   0.150004    1.00   1.00    1.00   \n",
       "congestion_surcharge   331719.0    0.472377   1.037282   -2.75   0.00    0.00   \n",
       "\n",
       "                          75%     max  \n",
       "VendorID                 2.00    2.00  \n",
       "RatecodeID               1.00   99.00  \n",
       "PULocationID           166.00  265.00  \n",
       "DOLocationID           194.00  265.00  \n",
       "passenger_count          1.00    9.00  \n",
       "trip_distance            4.41  130.68  \n",
       "fare_amount             21.00  753.00  \n",
       "extra                    1.00    8.25  \n",
       "mta_tax                  0.50    3.55  \n",
       "tip_amount               1.46  450.00  \n",
       "tolls_amount             0.00   96.12  \n",
       "improvement_surcharge    0.30    0.30  \n",
       "total_amount            24.55  753.80  \n",
       "payment_type             2.00    5.00  \n",
       "trip_type                1.00    2.00  \n",
       "congestion_surcharge     0.00    2.75  "
      ]
     },
     "execution_count": 14,
     "metadata": {},
     "output_type": "execute_result"
    }
   ],
   "source": [
    "data.describe().T"
   ]
  },
  {
   "cell_type": "markdown",
   "metadata": {},
   "source": [
    "Оставим только колонки с числами"
   ]
  },
  {
   "cell_type": "code",
   "execution_count": 15,
   "metadata": {},
   "outputs": [],
   "source": [
    "numeric_data = data.drop(cat_cols, axis=1)"
   ]
  },
  {
   "cell_type": "code",
   "execution_count": 16,
   "metadata": {},
   "outputs": [
    {
     "data": {
      "text/html": [
       "<div>\n",
       "<style scoped>\n",
       "    .dataframe tbody tr th:only-of-type {\n",
       "        vertical-align: middle;\n",
       "    }\n",
       "\n",
       "    .dataframe tbody tr th {\n",
       "        vertical-align: top;\n",
       "    }\n",
       "\n",
       "    .dataframe thead th {\n",
       "        text-align: right;\n",
       "    }\n",
       "</style>\n",
       "<table border=\"1\" class=\"dataframe\">\n",
       "  <thead>\n",
       "    <tr style=\"text-align: right;\">\n",
       "      <th></th>\n",
       "      <th>lpep_pickup_datetime</th>\n",
       "      <th>lpep_dropoff_datetime</th>\n",
       "      <th>PULocationID</th>\n",
       "      <th>DOLocationID</th>\n",
       "      <th>passenger_count</th>\n",
       "      <th>trip_distance</th>\n",
       "      <th>fare_amount</th>\n",
       "      <th>extra</th>\n",
       "      <th>tip_amount</th>\n",
       "      <th>tolls_amount</th>\n",
       "      <th>total_amount</th>\n",
       "    </tr>\n",
       "  </thead>\n",
       "  <tbody>\n",
       "    <tr>\n",
       "      <th>0</th>\n",
       "      <td>2019-12-18 15:52:30</td>\n",
       "      <td>2019-12-18 15:54:39</td>\n",
       "      <td>264</td>\n",
       "      <td>264</td>\n",
       "      <td>5.0</td>\n",
       "      <td>0.00</td>\n",
       "      <td>3.50</td>\n",
       "      <td>0.50</td>\n",
       "      <td>0.01</td>\n",
       "      <td>0.0</td>\n",
       "      <td>4.81</td>\n",
       "    </tr>\n",
       "    <tr>\n",
       "      <th>1</th>\n",
       "      <td>2020-01-01 00:45:58</td>\n",
       "      <td>2020-01-01 00:56:39</td>\n",
       "      <td>66</td>\n",
       "      <td>65</td>\n",
       "      <td>2.0</td>\n",
       "      <td>1.28</td>\n",
       "      <td>20.00</td>\n",
       "      <td>0.00</td>\n",
       "      <td>4.06</td>\n",
       "      <td>0.0</td>\n",
       "      <td>24.36</td>\n",
       "    </tr>\n",
       "    <tr>\n",
       "      <th>2</th>\n",
       "      <td>2020-01-01 00:41:38</td>\n",
       "      <td>2020-01-01 00:52:49</td>\n",
       "      <td>181</td>\n",
       "      <td>228</td>\n",
       "      <td>1.0</td>\n",
       "      <td>2.47</td>\n",
       "      <td>10.50</td>\n",
       "      <td>0.50</td>\n",
       "      <td>3.54</td>\n",
       "      <td>0.0</td>\n",
       "      <td>15.34</td>\n",
       "    </tr>\n",
       "    <tr>\n",
       "      <th>3</th>\n",
       "      <td>2020-01-01 00:52:46</td>\n",
       "      <td>2020-01-01 01:14:21</td>\n",
       "      <td>129</td>\n",
       "      <td>263</td>\n",
       "      <td>2.0</td>\n",
       "      <td>6.30</td>\n",
       "      <td>21.00</td>\n",
       "      <td>3.25</td>\n",
       "      <td>0.00</td>\n",
       "      <td>0.0</td>\n",
       "      <td>25.05</td>\n",
       "    </tr>\n",
       "    <tr>\n",
       "      <th>4</th>\n",
       "      <td>2020-01-01 00:19:57</td>\n",
       "      <td>2020-01-01 00:30:56</td>\n",
       "      <td>210</td>\n",
       "      <td>150</td>\n",
       "      <td>1.0</td>\n",
       "      <td>2.30</td>\n",
       "      <td>10.00</td>\n",
       "      <td>0.50</td>\n",
       "      <td>0.00</td>\n",
       "      <td>0.0</td>\n",
       "      <td>11.30</td>\n",
       "    </tr>\n",
       "    <tr>\n",
       "      <th>...</th>\n",
       "      <td>...</td>\n",
       "      <td>...</td>\n",
       "      <td>...</td>\n",
       "      <td>...</td>\n",
       "      <td>...</td>\n",
       "      <td>...</td>\n",
       "      <td>...</td>\n",
       "      <td>...</td>\n",
       "      <td>...</td>\n",
       "      <td>...</td>\n",
       "      <td>...</td>\n",
       "    </tr>\n",
       "    <tr>\n",
       "      <th>447765</th>\n",
       "      <td>2020-01-31 23:29:00</td>\n",
       "      <td>2020-01-31 23:47:00</td>\n",
       "      <td>167</td>\n",
       "      <td>32</td>\n",
       "      <td>NaN</td>\n",
       "      <td>4.58</td>\n",
       "      <td>23.21</td>\n",
       "      <td>2.75</td>\n",
       "      <td>0.00</td>\n",
       "      <td>0.0</td>\n",
       "      <td>26.26</td>\n",
       "    </tr>\n",
       "    <tr>\n",
       "      <th>447766</th>\n",
       "      <td>2020-01-31 23:57:00</td>\n",
       "      <td>2020-02-01 00:23:00</td>\n",
       "      <td>81</td>\n",
       "      <td>69</td>\n",
       "      <td>NaN</td>\n",
       "      <td>6.55</td>\n",
       "      <td>27.27</td>\n",
       "      <td>2.75</td>\n",
       "      <td>0.00</td>\n",
       "      <td>0.0</td>\n",
       "      <td>30.32</td>\n",
       "    </tr>\n",
       "    <tr>\n",
       "      <th>447767</th>\n",
       "      <td>2020-01-31 23:57:00</td>\n",
       "      <td>2020-02-01 00:10:00</td>\n",
       "      <td>244</td>\n",
       "      <td>241</td>\n",
       "      <td>NaN</td>\n",
       "      <td>3.34</td>\n",
       "      <td>25.95</td>\n",
       "      <td>2.75</td>\n",
       "      <td>0.00</td>\n",
       "      <td>0.0</td>\n",
       "      <td>29.00</td>\n",
       "    </tr>\n",
       "    <tr>\n",
       "      <th>447768</th>\n",
       "      <td>2020-01-31 23:27:00</td>\n",
       "      <td>2020-02-01 00:04:00</td>\n",
       "      <td>68</td>\n",
       "      <td>17</td>\n",
       "      <td>NaN</td>\n",
       "      <td>8.92</td>\n",
       "      <td>30.39</td>\n",
       "      <td>2.75</td>\n",
       "      <td>0.00</td>\n",
       "      <td>0.0</td>\n",
       "      <td>33.44</td>\n",
       "    </tr>\n",
       "    <tr>\n",
       "      <th>447769</th>\n",
       "      <td>2020-01-31 23:36:00</td>\n",
       "      <td>2020-02-01 00:01:00</td>\n",
       "      <td>22</td>\n",
       "      <td>124</td>\n",
       "      <td>NaN</td>\n",
       "      <td>13.51</td>\n",
       "      <td>42.20</td>\n",
       "      <td>2.75</td>\n",
       "      <td>0.00</td>\n",
       "      <td>0.0</td>\n",
       "      <td>45.25</td>\n",
       "    </tr>\n",
       "  </tbody>\n",
       "</table>\n",
       "<p>447770 rows × 11 columns</p>\n",
       "</div>"
      ],
      "text/plain": [
       "       lpep_pickup_datetime lpep_dropoff_datetime  PULocationID  DOLocationID  \\\n",
       "0       2019-12-18 15:52:30   2019-12-18 15:54:39           264           264   \n",
       "1       2020-01-01 00:45:58   2020-01-01 00:56:39            66            65   \n",
       "2       2020-01-01 00:41:38   2020-01-01 00:52:49           181           228   \n",
       "3       2020-01-01 00:52:46   2020-01-01 01:14:21           129           263   \n",
       "4       2020-01-01 00:19:57   2020-01-01 00:30:56           210           150   \n",
       "...                     ...                   ...           ...           ...   \n",
       "447765  2020-01-31 23:29:00   2020-01-31 23:47:00           167            32   \n",
       "447766  2020-01-31 23:57:00   2020-02-01 00:23:00            81            69   \n",
       "447767  2020-01-31 23:57:00   2020-02-01 00:10:00           244           241   \n",
       "447768  2020-01-31 23:27:00   2020-02-01 00:04:00            68            17   \n",
       "447769  2020-01-31 23:36:00   2020-02-01 00:01:00            22           124   \n",
       "\n",
       "        passenger_count  trip_distance  fare_amount  extra  tip_amount  \\\n",
       "0                   5.0           0.00         3.50   0.50        0.01   \n",
       "1                   2.0           1.28        20.00   0.00        4.06   \n",
       "2                   1.0           2.47        10.50   0.50        3.54   \n",
       "3                   2.0           6.30        21.00   3.25        0.00   \n",
       "4                   1.0           2.30        10.00   0.50        0.00   \n",
       "...                 ...            ...          ...    ...         ...   \n",
       "447765              NaN           4.58        23.21   2.75        0.00   \n",
       "447766              NaN           6.55        27.27   2.75        0.00   \n",
       "447767              NaN           3.34        25.95   2.75        0.00   \n",
       "447768              NaN           8.92        30.39   2.75        0.00   \n",
       "447769              NaN          13.51        42.20   2.75        0.00   \n",
       "\n",
       "        tolls_amount  total_amount  \n",
       "0                0.0          4.81  \n",
       "1                0.0         24.36  \n",
       "2                0.0         15.34  \n",
       "3                0.0         25.05  \n",
       "4                0.0         11.30  \n",
       "...              ...           ...  \n",
       "447765           0.0         26.26  \n",
       "447766           0.0         30.32  \n",
       "447767           0.0         29.00  \n",
       "447768           0.0         33.44  \n",
       "447769           0.0         45.25  \n",
       "\n",
       "[447770 rows x 11 columns]"
      ]
     },
     "execution_count": 16,
     "metadata": {},
     "output_type": "execute_result"
    }
   ],
   "source": [
    "numeric_data"
   ]
  },
  {
   "cell_type": "code",
   "execution_count": 17,
   "metadata": {},
   "outputs": [
    {
     "data": {
      "text/plain": [
       "Index(['lpep_pickup_datetime', 'lpep_dropoff_datetime'], dtype='object')"
      ]
     },
     "execution_count": 17,
     "metadata": {},
     "output_type": "execute_result"
    }
   ],
   "source": [
    "# Выделим отдельно колонки с датой и временем\n",
    "\n",
    "time_cols = data.select_dtypes(include='datetime').columns\n",
    "time_cols"
   ]
  },
  {
   "cell_type": "code",
   "execution_count": 18,
   "metadata": {},
   "outputs": [
    {
     "data": {
      "text/plain": [
       "lpep_pickup_datetime     datetime64[ns]\n",
       "lpep_dropoff_datetime    datetime64[ns]\n",
       "PULocationID                      int64\n",
       "DOLocationID                      int64\n",
       "passenger_count                 float64\n",
       "trip_distance                   float64\n",
       "fare_amount                     float64\n",
       "extra                           float64\n",
       "tip_amount                      float64\n",
       "tolls_amount                    float64\n",
       "total_amount                    float64\n",
       "dtype: object"
      ]
     },
     "execution_count": 18,
     "metadata": {},
     "output_type": "execute_result"
    }
   ],
   "source": [
    "numeric_data.dtypes"
   ]
  },
  {
   "cell_type": "code",
   "execution_count": 19,
   "metadata": {},
   "outputs": [
    {
     "data": {
      "text/plain": [
       "lpep_pickup_datetime          0\n",
       "lpep_dropoff_datetime         0\n",
       "PULocationID                  0\n",
       "DOLocationID                  0\n",
       "passenger_count          116051\n",
       "trip_distance                 0\n",
       "fare_amount                   0\n",
       "extra                         0\n",
       "tip_amount                    0\n",
       "tolls_amount                  0\n",
       "total_amount                  0\n",
       "dtype: int64"
      ]
     },
     "execution_count": 19,
     "metadata": {},
     "output_type": "execute_result"
    }
   ],
   "source": [
    "numeric_data.isnull().sum()"
   ]
  },
  {
   "cell_type": "markdown",
   "metadata": {},
   "source": [
    "Много пропущенных значений в passenger_count (количество пассажиров). Посмотрим на них подробнее"
   ]
  },
  {
   "cell_type": "code",
   "execution_count": 20,
   "metadata": {},
   "outputs": [
    {
     "data": {
      "text/plain": [
       "count    331719.000000\n",
       "mean          1.304110\n",
       "std           0.953394\n",
       "min           0.000000\n",
       "25%           1.000000\n",
       "50%           1.000000\n",
       "75%           1.000000\n",
       "max           9.000000\n",
       "Name: passenger_count, dtype: float64"
      ]
     },
     "execution_count": 20,
     "metadata": {},
     "output_type": "execute_result"
    }
   ],
   "source": [
    "numeric_data.passenger_count.describe()"
   ]
  },
  {
   "cell_type": "code",
   "execution_count": 21,
   "metadata": {},
   "outputs": [
    {
     "data": {
      "text/plain": [
       "1.0    285729\n",
       "2.0     24697\n",
       "5.0      9584\n",
       "3.0      4900\n",
       "6.0      4782\n",
       "4.0      1498\n",
       "0.0       507\n",
       "8.0        13\n",
       "7.0         7\n",
       "9.0         2\n",
       "Name: passenger_count, dtype: int64"
      ]
     },
     "execution_count": 21,
     "metadata": {},
     "output_type": "execute_result"
    }
   ],
   "source": [
    "numeric_data.passenger_count.value_counts()"
   ]
  },
  {
   "cell_type": "markdown",
   "metadata": {},
   "source": [
    "Сделаю пару замечаний:\n",
    "- есть большие значения количества пассажиров: 7, 8, 9 - это может быть минивен или еще что-то, так что думаю это допустимые значения;\n",
    "- присутствуют нулевые значение пассажиров - возможно заказ был отменен, возможно ошибка заполнения данных\n",
    "- подавляющее большинство поездок совершено 1 пассажиром"
   ]
  },
  {
   "cell_type": "code",
   "execution_count": 22,
   "metadata": {},
   "outputs": [
    {
     "name": "stdout",
     "output_type": "stream",
     "text": [
      "63.81% поездок совершено 1 пассажиром\n",
      "5.52% поездок совершено 2 пассажирами\n",
      "25.92% пропущенных значений\n"
     ]
    }
   ],
   "source": [
    "print(f'{round(285729 / 447770 * 100, 2)}% поездок совершено 1 пассажиром')\n",
    "print(f'{round(24697 / 447770 * 100, 2)}% поездок совершено 2 пассажирами')\n",
    "print(f'{round(116051 / 447770 * 100, 2)}% пропущенных значений')"
   ]
  },
  {
   "cell_type": "markdown",
   "metadata": {},
   "source": [
    "Достаточно большое количество пропущенных значений. Но выкидывать эту колонку не будем, заполним пропуски медианным значением (в нашем случае оно совпадает со средним и модой), т.е. 1"
   ]
  },
  {
   "cell_type": "code",
   "execution_count": 23,
   "metadata": {},
   "outputs": [],
   "source": [
    "numeric_data.passenger_count.fillna(numeric_data.passenger_count.median(), inplace=True)"
   ]
  },
  {
   "cell_type": "code",
   "execution_count": 24,
   "metadata": {},
   "outputs": [
    {
     "data": {
      "text/plain": [
       "lpep_pickup_datetime     0\n",
       "lpep_dropoff_datetime    0\n",
       "PULocationID             0\n",
       "DOLocationID             0\n",
       "passenger_count          0\n",
       "trip_distance            0\n",
       "fare_amount              0\n",
       "extra                    0\n",
       "tip_amount               0\n",
       "tolls_amount             0\n",
       "total_amount             0\n",
       "dtype: int64"
      ]
     },
     "execution_count": 24,
     "metadata": {},
     "output_type": "execute_result"
    }
   ],
   "source": [
    "numeric_data.isnull().sum()"
   ]
  },
  {
   "cell_type": "markdown",
   "metadata": {},
   "source": [
    "### Дальше рассмотрим нашу целевую переменную (total_amount)"
   ]
  },
  {
   "cell_type": "code",
   "execution_count": 25,
   "metadata": {},
   "outputs": [
    {
     "data": {
      "text/plain": [
       "count    447770.000000\n",
       "mean         18.898600\n",
       "std          14.101771\n",
       "min        -210.300000\n",
       "25%           9.120000\n",
       "50%          14.400000\n",
       "75%          24.550000\n",
       "max         753.800000\n",
       "Name: total_amount, dtype: float64"
      ]
     },
     "execution_count": 25,
     "metadata": {},
     "output_type": "execute_result"
    }
   ],
   "source": [
    "numeric_data.total_amount.describe()"
   ]
  },
  {
   "cell_type": "markdown",
   "metadata": {},
   "source": [
    "Странное минимальное значение -210.3. Думаю это и есть наши аномалии. Проверим сколько отрицательных чеков"
   ]
  },
  {
   "cell_type": "code",
   "execution_count": 26,
   "metadata": {},
   "outputs": [
    {
     "data": {
      "text/html": [
       "<div>\n",
       "<style scoped>\n",
       "    .dataframe tbody tr th:only-of-type {\n",
       "        vertical-align: middle;\n",
       "    }\n",
       "\n",
       "    .dataframe tbody tr th {\n",
       "        vertical-align: top;\n",
       "    }\n",
       "\n",
       "    .dataframe thead th {\n",
       "        text-align: right;\n",
       "    }\n",
       "</style>\n",
       "<table border=\"1\" class=\"dataframe\">\n",
       "  <thead>\n",
       "    <tr style=\"text-align: right;\">\n",
       "      <th></th>\n",
       "      <th>VendorID</th>\n",
       "      <th>lpep_pickup_datetime</th>\n",
       "      <th>lpep_dropoff_datetime</th>\n",
       "      <th>store_and_fwd_flag</th>\n",
       "      <th>RatecodeID</th>\n",
       "      <th>PULocationID</th>\n",
       "      <th>DOLocationID</th>\n",
       "      <th>passenger_count</th>\n",
       "      <th>trip_distance</th>\n",
       "      <th>fare_amount</th>\n",
       "      <th>extra</th>\n",
       "      <th>mta_tax</th>\n",
       "      <th>tip_amount</th>\n",
       "      <th>tolls_amount</th>\n",
       "      <th>improvement_surcharge</th>\n",
       "      <th>total_amount</th>\n",
       "      <th>payment_type</th>\n",
       "      <th>trip_type</th>\n",
       "      <th>congestion_surcharge</th>\n",
       "    </tr>\n",
       "  </thead>\n",
       "  <tbody>\n",
       "    <tr>\n",
       "      <th>275</th>\n",
       "      <td>2.0</td>\n",
       "      <td>2020-01-01 00:55:51</td>\n",
       "      <td>2020-01-01 01:01:58</td>\n",
       "      <td>N</td>\n",
       "      <td>1.0</td>\n",
       "      <td>80</td>\n",
       "      <td>256</td>\n",
       "      <td>2.0</td>\n",
       "      <td>0.71</td>\n",
       "      <td>-5.50</td>\n",
       "      <td>-0.50</td>\n",
       "      <td>-0.5</td>\n",
       "      <td>0.0</td>\n",
       "      <td>0.0</td>\n",
       "      <td>-0.3</td>\n",
       "      <td>-6.80</td>\n",
       "      <td>3.0</td>\n",
       "      <td>1.0</td>\n",
       "      <td>0.0</td>\n",
       "    </tr>\n",
       "    <tr>\n",
       "      <th>1772</th>\n",
       "      <td>2.0</td>\n",
       "      <td>2020-01-01 02:15:31</td>\n",
       "      <td>2020-01-01 02:20:12</td>\n",
       "      <td>N</td>\n",
       "      <td>1.0</td>\n",
       "      <td>256</td>\n",
       "      <td>256</td>\n",
       "      <td>2.0</td>\n",
       "      <td>0.63</td>\n",
       "      <td>-5.00</td>\n",
       "      <td>-0.50</td>\n",
       "      <td>-0.5</td>\n",
       "      <td>0.0</td>\n",
       "      <td>0.0</td>\n",
       "      <td>-0.3</td>\n",
       "      <td>-6.30</td>\n",
       "      <td>3.0</td>\n",
       "      <td>1.0</td>\n",
       "      <td>0.0</td>\n",
       "    </tr>\n",
       "    <tr>\n",
       "      <th>1910</th>\n",
       "      <td>2.0</td>\n",
       "      <td>2020-01-01 02:30:01</td>\n",
       "      <td>2020-01-01 02:32:54</td>\n",
       "      <td>N</td>\n",
       "      <td>1.0</td>\n",
       "      <td>42</td>\n",
       "      <td>42</td>\n",
       "      <td>1.0</td>\n",
       "      <td>0.57</td>\n",
       "      <td>-4.00</td>\n",
       "      <td>-0.50</td>\n",
       "      <td>-0.5</td>\n",
       "      <td>0.0</td>\n",
       "      <td>0.0</td>\n",
       "      <td>-0.3</td>\n",
       "      <td>-5.30</td>\n",
       "      <td>4.0</td>\n",
       "      <td>1.0</td>\n",
       "      <td>0.0</td>\n",
       "    </tr>\n",
       "    <tr>\n",
       "      <th>2024</th>\n",
       "      <td>2.0</td>\n",
       "      <td>2020-01-01 02:37:22</td>\n",
       "      <td>2020-01-01 02:38:26</td>\n",
       "      <td>N</td>\n",
       "      <td>1.0</td>\n",
       "      <td>256</td>\n",
       "      <td>256</td>\n",
       "      <td>1.0</td>\n",
       "      <td>0.15</td>\n",
       "      <td>-3.00</td>\n",
       "      <td>-0.50</td>\n",
       "      <td>-0.5</td>\n",
       "      <td>0.0</td>\n",
       "      <td>0.0</td>\n",
       "      <td>-0.3</td>\n",
       "      <td>-4.30</td>\n",
       "      <td>3.0</td>\n",
       "      <td>1.0</td>\n",
       "      <td>0.0</td>\n",
       "    </tr>\n",
       "    <tr>\n",
       "      <th>2538</th>\n",
       "      <td>2.0</td>\n",
       "      <td>2020-01-01 03:54:41</td>\n",
       "      <td>2020-01-01 03:58:31</td>\n",
       "      <td>N</td>\n",
       "      <td>1.0</td>\n",
       "      <td>61</td>\n",
       "      <td>177</td>\n",
       "      <td>1.0</td>\n",
       "      <td>0.81</td>\n",
       "      <td>-5.00</td>\n",
       "      <td>-0.50</td>\n",
       "      <td>-0.5</td>\n",
       "      <td>0.0</td>\n",
       "      <td>0.0</td>\n",
       "      <td>-0.3</td>\n",
       "      <td>-6.30</td>\n",
       "      <td>4.0</td>\n",
       "      <td>1.0</td>\n",
       "      <td>0.0</td>\n",
       "    </tr>\n",
       "    <tr>\n",
       "      <th>...</th>\n",
       "      <td>...</td>\n",
       "      <td>...</td>\n",
       "      <td>...</td>\n",
       "      <td>...</td>\n",
       "      <td>...</td>\n",
       "      <td>...</td>\n",
       "      <td>...</td>\n",
       "      <td>...</td>\n",
       "      <td>...</td>\n",
       "      <td>...</td>\n",
       "      <td>...</td>\n",
       "      <td>...</td>\n",
       "      <td>...</td>\n",
       "      <td>...</td>\n",
       "      <td>...</td>\n",
       "      <td>...</td>\n",
       "      <td>...</td>\n",
       "      <td>...</td>\n",
       "      <td>...</td>\n",
       "    </tr>\n",
       "    <tr>\n",
       "      <th>443141</th>\n",
       "      <td>NaN</td>\n",
       "      <td>2020-01-30 12:13:00</td>\n",
       "      <td>2020-01-30 12:16:00</td>\n",
       "      <td>NaN</td>\n",
       "      <td>NaN</td>\n",
       "      <td>95</td>\n",
       "      <td>95</td>\n",
       "      <td>NaN</td>\n",
       "      <td>0.38</td>\n",
       "      <td>-18.49</td>\n",
       "      <td>2.75</td>\n",
       "      <td>0.0</td>\n",
       "      <td>0.0</td>\n",
       "      <td>0.0</td>\n",
       "      <td>0.3</td>\n",
       "      <td>-15.44</td>\n",
       "      <td>NaN</td>\n",
       "      <td>NaN</td>\n",
       "      <td>NaN</td>\n",
       "    </tr>\n",
       "    <tr>\n",
       "      <th>443594</th>\n",
       "      <td>NaN</td>\n",
       "      <td>2020-01-30 15:15:00</td>\n",
       "      <td>2020-01-30 15:33:00</td>\n",
       "      <td>NaN</td>\n",
       "      <td>NaN</td>\n",
       "      <td>72</td>\n",
       "      <td>91</td>\n",
       "      <td>NaN</td>\n",
       "      <td>2.96</td>\n",
       "      <td>-32.57</td>\n",
       "      <td>2.75</td>\n",
       "      <td>0.5</td>\n",
       "      <td>0.0</td>\n",
       "      <td>0.0</td>\n",
       "      <td>0.0</td>\n",
       "      <td>-29.32</td>\n",
       "      <td>NaN</td>\n",
       "      <td>NaN</td>\n",
       "      <td>NaN</td>\n",
       "    </tr>\n",
       "    <tr>\n",
       "      <th>443605</th>\n",
       "      <td>NaN</td>\n",
       "      <td>2020-01-30 15:15:00</td>\n",
       "      <td>2020-01-30 15:25:00</td>\n",
       "      <td>NaN</td>\n",
       "      <td>NaN</td>\n",
       "      <td>7</td>\n",
       "      <td>7</td>\n",
       "      <td>NaN</td>\n",
       "      <td>0.31</td>\n",
       "      <td>-22.93</td>\n",
       "      <td>2.75</td>\n",
       "      <td>0.0</td>\n",
       "      <td>0.0</td>\n",
       "      <td>0.0</td>\n",
       "      <td>0.3</td>\n",
       "      <td>-19.88</td>\n",
       "      <td>NaN</td>\n",
       "      <td>NaN</td>\n",
       "      <td>NaN</td>\n",
       "    </tr>\n",
       "    <tr>\n",
       "      <th>444281</th>\n",
       "      <td>NaN</td>\n",
       "      <td>2020-01-30 18:23:00</td>\n",
       "      <td>2020-01-30 18:29:00</td>\n",
       "      <td>NaN</td>\n",
       "      <td>NaN</td>\n",
       "      <td>42</td>\n",
       "      <td>42</td>\n",
       "      <td>NaN</td>\n",
       "      <td>0.31</td>\n",
       "      <td>-22.78</td>\n",
       "      <td>5.50</td>\n",
       "      <td>0.0</td>\n",
       "      <td>0.0</td>\n",
       "      <td>0.0</td>\n",
       "      <td>0.3</td>\n",
       "      <td>-16.98</td>\n",
       "      <td>NaN</td>\n",
       "      <td>NaN</td>\n",
       "      <td>NaN</td>\n",
       "    </tr>\n",
       "    <tr>\n",
       "      <th>444369</th>\n",
       "      <td>NaN</td>\n",
       "      <td>2020-01-30 18:25:00</td>\n",
       "      <td>2020-01-30 18:31:00</td>\n",
       "      <td>NaN</td>\n",
       "      <td>NaN</td>\n",
       "      <td>80</td>\n",
       "      <td>80</td>\n",
       "      <td>NaN</td>\n",
       "      <td>0.37</td>\n",
       "      <td>-20.99</td>\n",
       "      <td>2.75</td>\n",
       "      <td>0.0</td>\n",
       "      <td>0.0</td>\n",
       "      <td>0.0</td>\n",
       "      <td>0.3</td>\n",
       "      <td>-17.94</td>\n",
       "      <td>NaN</td>\n",
       "      <td>NaN</td>\n",
       "      <td>NaN</td>\n",
       "    </tr>\n",
       "  </tbody>\n",
       "</table>\n",
       "<p>1161 rows × 19 columns</p>\n",
       "</div>"
      ],
      "text/plain": [
       "        VendorID lpep_pickup_datetime lpep_dropoff_datetime  \\\n",
       "275          2.0  2020-01-01 00:55:51   2020-01-01 01:01:58   \n",
       "1772         2.0  2020-01-01 02:15:31   2020-01-01 02:20:12   \n",
       "1910         2.0  2020-01-01 02:30:01   2020-01-01 02:32:54   \n",
       "2024         2.0  2020-01-01 02:37:22   2020-01-01 02:38:26   \n",
       "2538         2.0  2020-01-01 03:54:41   2020-01-01 03:58:31   \n",
       "...          ...                  ...                   ...   \n",
       "443141       NaN  2020-01-30 12:13:00   2020-01-30 12:16:00   \n",
       "443594       NaN  2020-01-30 15:15:00   2020-01-30 15:33:00   \n",
       "443605       NaN  2020-01-30 15:15:00   2020-01-30 15:25:00   \n",
       "444281       NaN  2020-01-30 18:23:00   2020-01-30 18:29:00   \n",
       "444369       NaN  2020-01-30 18:25:00   2020-01-30 18:31:00   \n",
       "\n",
       "       store_and_fwd_flag  RatecodeID  PULocationID  DOLocationID  \\\n",
       "275                     N         1.0            80           256   \n",
       "1772                    N         1.0           256           256   \n",
       "1910                    N         1.0            42            42   \n",
       "2024                    N         1.0           256           256   \n",
       "2538                    N         1.0            61           177   \n",
       "...                   ...         ...           ...           ...   \n",
       "443141                NaN         NaN            95            95   \n",
       "443594                NaN         NaN            72            91   \n",
       "443605                NaN         NaN             7             7   \n",
       "444281                NaN         NaN            42            42   \n",
       "444369                NaN         NaN            80            80   \n",
       "\n",
       "        passenger_count  trip_distance  fare_amount  extra  mta_tax  \\\n",
       "275                 2.0           0.71        -5.50  -0.50     -0.5   \n",
       "1772                2.0           0.63        -5.00  -0.50     -0.5   \n",
       "1910                1.0           0.57        -4.00  -0.50     -0.5   \n",
       "2024                1.0           0.15        -3.00  -0.50     -0.5   \n",
       "2538                1.0           0.81        -5.00  -0.50     -0.5   \n",
       "...                 ...            ...          ...    ...      ...   \n",
       "443141              NaN           0.38       -18.49   2.75      0.0   \n",
       "443594              NaN           2.96       -32.57   2.75      0.5   \n",
       "443605              NaN           0.31       -22.93   2.75      0.0   \n",
       "444281              NaN           0.31       -22.78   5.50      0.0   \n",
       "444369              NaN           0.37       -20.99   2.75      0.0   \n",
       "\n",
       "        tip_amount  tolls_amount  improvement_surcharge  total_amount  \\\n",
       "275            0.0           0.0                   -0.3         -6.80   \n",
       "1772           0.0           0.0                   -0.3         -6.30   \n",
       "1910           0.0           0.0                   -0.3         -5.30   \n",
       "2024           0.0           0.0                   -0.3         -4.30   \n",
       "2538           0.0           0.0                   -0.3         -6.30   \n",
       "...            ...           ...                    ...           ...   \n",
       "443141         0.0           0.0                    0.3        -15.44   \n",
       "443594         0.0           0.0                    0.0        -29.32   \n",
       "443605         0.0           0.0                    0.3        -19.88   \n",
       "444281         0.0           0.0                    0.3        -16.98   \n",
       "444369         0.0           0.0                    0.3        -17.94   \n",
       "\n",
       "        payment_type  trip_type  congestion_surcharge  \n",
       "275              3.0        1.0                   0.0  \n",
       "1772             3.0        1.0                   0.0  \n",
       "1910             4.0        1.0                   0.0  \n",
       "2024             3.0        1.0                   0.0  \n",
       "2538             4.0        1.0                   0.0  \n",
       "...              ...        ...                   ...  \n",
       "443141           NaN        NaN                   NaN  \n",
       "443594           NaN        NaN                   NaN  \n",
       "443605           NaN        NaN                   NaN  \n",
       "444281           NaN        NaN                   NaN  \n",
       "444369           NaN        NaN                   NaN  \n",
       "\n",
       "[1161 rows x 19 columns]"
      ]
     },
     "execution_count": 26,
     "metadata": {},
     "output_type": "execute_result"
    }
   ],
   "source": [
    "free_trip = data[numeric_data['total_amount'] < 0]\n",
    "free_trip"
   ]
  },
  {
   "cell_type": "markdown",
   "metadata": {},
   "source": [
    "### 1161 поездка была совершена за отрицательную сумму. Это подозрительно, первая мысль которая может оправдать такую сумму - это либо промо акция (бесплатная поездка) или возврат средств. В колонке payment_type есть значения \"3\" - \"бесплатная поездка\", \"4\" - \"спор\". Надо пристольнее изучать документацию к данным, но на мой взгляд это первые претенденты на аномалии."
   ]
  },
  {
   "cell_type": "code",
   "execution_count": 27,
   "metadata": {},
   "outputs": [
    {
     "data": {
      "text/plain": [
       "array([ 3.,  4.,  2., nan])"
      ]
     },
     "execution_count": 27,
     "metadata": {},
     "output_type": "execute_result"
    }
   ],
   "source": [
    "# Рассмотрим тип оплаты для поездок за отрицательную сумму\n",
    "\n",
    "free_trip.payment_type.unique()"
   ]
  },
  {
   "cell_type": "markdown",
   "metadata": {},
   "source": [
    "Имеем значение \"2\" - cash. Пока самый подозрительный тип оплаты для поездки за отрицательную сумму. Посмотрим, сколько таких поездок"
   ]
  },
  {
   "cell_type": "code",
   "execution_count": 28,
   "metadata": {},
   "outputs": [
    {
     "data": {
      "text/html": [
       "<div>\n",
       "<style scoped>\n",
       "    .dataframe tbody tr th:only-of-type {\n",
       "        vertical-align: middle;\n",
       "    }\n",
       "\n",
       "    .dataframe tbody tr th {\n",
       "        vertical-align: top;\n",
       "    }\n",
       "\n",
       "    .dataframe thead th {\n",
       "        text-align: right;\n",
       "    }\n",
       "</style>\n",
       "<table border=\"1\" class=\"dataframe\">\n",
       "  <thead>\n",
       "    <tr style=\"text-align: right;\">\n",
       "      <th></th>\n",
       "      <th>VendorID</th>\n",
       "      <th>lpep_pickup_datetime</th>\n",
       "      <th>lpep_dropoff_datetime</th>\n",
       "      <th>store_and_fwd_flag</th>\n",
       "      <th>RatecodeID</th>\n",
       "      <th>PULocationID</th>\n",
       "      <th>DOLocationID</th>\n",
       "      <th>passenger_count</th>\n",
       "      <th>trip_distance</th>\n",
       "      <th>fare_amount</th>\n",
       "      <th>extra</th>\n",
       "      <th>mta_tax</th>\n",
       "      <th>tip_amount</th>\n",
       "      <th>tolls_amount</th>\n",
       "      <th>improvement_surcharge</th>\n",
       "      <th>total_amount</th>\n",
       "      <th>payment_type</th>\n",
       "      <th>trip_type</th>\n",
       "      <th>congestion_surcharge</th>\n",
       "    </tr>\n",
       "  </thead>\n",
       "  <tbody>\n",
       "    <tr>\n",
       "      <th>77931</th>\n",
       "      <td>2.0</td>\n",
       "      <td>2020-01-08 20:39:26</td>\n",
       "      <td>2020-01-08 20:39:45</td>\n",
       "      <td>N</td>\n",
       "      <td>1.0</td>\n",
       "      <td>7</td>\n",
       "      <td>7</td>\n",
       "      <td>1.0</td>\n",
       "      <td>0.0</td>\n",
       "      <td>-2.5</td>\n",
       "      <td>-0.5</td>\n",
       "      <td>-0.5</td>\n",
       "      <td>0.0</td>\n",
       "      <td>0.0</td>\n",
       "      <td>-0.3</td>\n",
       "      <td>-3.8</td>\n",
       "      <td>2.0</td>\n",
       "      <td>1.0</td>\n",
       "      <td>0.0</td>\n",
       "    </tr>\n",
       "    <tr>\n",
       "      <th>96024</th>\n",
       "      <td>2.0</td>\n",
       "      <td>2020-01-10 14:41:57</td>\n",
       "      <td>2020-01-10 14:42:06</td>\n",
       "      <td>N</td>\n",
       "      <td>1.0</td>\n",
       "      <td>7</td>\n",
       "      <td>7</td>\n",
       "      <td>1.0</td>\n",
       "      <td>0.0</td>\n",
       "      <td>-2.5</td>\n",
       "      <td>0.0</td>\n",
       "      <td>-0.5</td>\n",
       "      <td>0.0</td>\n",
       "      <td>0.0</td>\n",
       "      <td>-0.3</td>\n",
       "      <td>-3.3</td>\n",
       "      <td>2.0</td>\n",
       "      <td>1.0</td>\n",
       "      <td>0.0</td>\n",
       "    </tr>\n",
       "    <tr>\n",
       "      <th>110361</th>\n",
       "      <td>2.0</td>\n",
       "      <td>2020-01-11 17:22:43</td>\n",
       "      <td>2020-01-11 17:22:51</td>\n",
       "      <td>N</td>\n",
       "      <td>1.0</td>\n",
       "      <td>7</td>\n",
       "      <td>7</td>\n",
       "      <td>1.0</td>\n",
       "      <td>0.0</td>\n",
       "      <td>-2.5</td>\n",
       "      <td>0.0</td>\n",
       "      <td>-0.5</td>\n",
       "      <td>0.0</td>\n",
       "      <td>0.0</td>\n",
       "      <td>-0.3</td>\n",
       "      <td>-3.3</td>\n",
       "      <td>2.0</td>\n",
       "      <td>1.0</td>\n",
       "      <td>0.0</td>\n",
       "    </tr>\n",
       "  </tbody>\n",
       "</table>\n",
       "</div>"
      ],
      "text/plain": [
       "        VendorID lpep_pickup_datetime lpep_dropoff_datetime  \\\n",
       "77931        2.0  2020-01-08 20:39:26   2020-01-08 20:39:45   \n",
       "96024        2.0  2020-01-10 14:41:57   2020-01-10 14:42:06   \n",
       "110361       2.0  2020-01-11 17:22:43   2020-01-11 17:22:51   \n",
       "\n",
       "       store_and_fwd_flag  RatecodeID  PULocationID  DOLocationID  \\\n",
       "77931                   N         1.0             7             7   \n",
       "96024                   N         1.0             7             7   \n",
       "110361                  N         1.0             7             7   \n",
       "\n",
       "        passenger_count  trip_distance  fare_amount  extra  mta_tax  \\\n",
       "77931               1.0            0.0         -2.5   -0.5     -0.5   \n",
       "96024               1.0            0.0         -2.5    0.0     -0.5   \n",
       "110361              1.0            0.0         -2.5    0.0     -0.5   \n",
       "\n",
       "        tip_amount  tolls_amount  improvement_surcharge  total_amount  \\\n",
       "77931          0.0           0.0                   -0.3          -3.8   \n",
       "96024          0.0           0.0                   -0.3          -3.3   \n",
       "110361         0.0           0.0                   -0.3          -3.3   \n",
       "\n",
       "        payment_type  trip_type  congestion_surcharge  \n",
       "77931            2.0        1.0                   0.0  \n",
       "96024            2.0        1.0                   0.0  \n",
       "110361           2.0        1.0                   0.0  "
      ]
     },
     "execution_count": 28,
     "metadata": {},
     "output_type": "execute_result"
    }
   ],
   "source": [
    "free_trip[free_trip.payment_type == 2]"
   ]
  },
  {
   "cell_type": "markdown",
   "metadata": {},
   "source": [
    "Всего 3 поездки. Хотя похоже здесь поездка вообще не состоялась, судя по времени (разница в несколько секунд) и локации (одинаковая) начала и окончания поездки. Но сумма отрицательная, возможно возврат за броь такси (но почему-то наличными)."
   ]
  },
  {
   "cell_type": "markdown",
   "metadata": {},
   "source": [
    "Далее рассмотрим гистограмму суммы поездки"
   ]
  },
  {
   "cell_type": "code",
   "execution_count": 30,
   "metadata": {},
   "outputs": [
    {
     "data": {
      "image/png": "[encoded data removed]",
      "text/plain": [
       "<Figure size 1152x432 with 2 Axes>"
      ]
     },
     "metadata": {},
     "output_type": "display_data"
    }
   ],
   "source": [
    "fig = plt.figure(figsize=(16,6))\n",
    "\n",
    "ax = plt.subplot(1,2,1)\n",
    "plt.hist(data['total_amount'], bins=20, color='purple')\n",
    "plt.xlabel('Total amount')\n",
    "plt.title('1')\n",
    "\n",
    "ax = plt.subplot(122)\n",
    "plt.hist(data['total_amount'], log=True, bins=20, color='orange')\n",
    "plt.xlabel('Total amount')\n",
    "plt.ylabel('Log scale')\n",
    "plt.title('2')\n",
    "plt.show()"
   ]
  },
  {
   "cell_type": "markdown",
   "metadata": {},
   "source": [
    "Гистограмма 1 с абсолютными значениями не информативна, поэтому в гисторгамме 2 по оси Y приведена логарифмическая шкала.\n",
    "### Видны выбросы на отметках \"-200\" и после \"400\". Также рассмотрим данные превышающие 3 стандартных отклонения."
   ]
  },
  {
   "cell_type": "code",
   "execution_count": 31,
   "metadata": {},
   "outputs": [],
   "source": [
    "std = data.total_amount.std() # стандартное отклонение по выборке\n",
    "mean = data.total_amount.mean() # среднее по выборке\n",
    "\n",
    "abnormality = data[(data.total_amount < (mean - 3*std)) | (data.total_amount > (mean + 3*std))]"
   ]
  },
  {
   "cell_type": "code",
   "execution_count": 32,
   "metadata": {},
   "outputs": [
    {
     "data": {
      "text/plain": [
       "(7475, 19)"
      ]
     },
     "execution_count": 32,
     "metadata": {},
     "output_type": "execute_result"
    }
   ],
   "source": [
    "abnormality.shape"
   ]
  },
  {
   "cell_type": "markdown",
   "metadata": {},
   "source": [
    "### Итого 7475 записей. Я бы отнес их к аномалиям. Далее посмотрим на гистограмму без этих данных"
   ]
  },
  {
   "cell_type": "code",
   "execution_count": 33,
   "metadata": {
    "scrolled": true
   },
   "outputs": [
    {
     "data": {
      "image/png": "[encoded data removed]",
      "text/plain": [
       "<Figure size 432x288 with 1 Axes>"
      ]
     },
     "metadata": {},
     "output_type": "display_data"
    }
   ],
   "source": [
    "# Построим гистограмму без выбросов, также удерем значения чека меньше 0\n",
    "\n",
    "drop_abnormality = data[(data.total_amount > (mean - 3*std)) & (data.total_amount < (mean + 3*std))]\n",
    "\n",
    "# plt.hist(drop_abnormality['total_amount'], color='purple', bins=30)\n",
    "plt.hist(drop_abnormality[drop_abnormality['total_amount'] > 0].total_amount, color='purple', bins=20)\n",
    "plt.xlabel('Total amount')\n",
    "plt.title('3')\n",
    "plt.show()"
   ]
  },
  {
   "cell_type": "markdown",
   "metadata": {},
   "source": [
    "Стоит заметить что в этой гистограмме значения по Y абсолютные. Т.е. можно сделать вывод что удаление аномалий позволило увидеть наглядное распределение целевой переменной в отличае от гистограмы 1"
   ]
  },
  {
   "cell_type": "markdown",
   "metadata": {},
   "source": [
    "# Вывод:\n",
    "- считаю данные, которые отличаются на 3 стандартных отклонения от среднего значения выбросами\n",
    "- также стоит рассмотреть отрицательные суммы на включение их в выбросы, т.к. они не дают нам представления о среднем чеке"
   ]
  },
  {
   "cell_type": "markdown",
   "metadata": {},
   "source": [
    "# 3. Проверка гипотезы о нормальном распределении"
   ]
  },
  {
   "cell_type": "markdown",
   "metadata": {},
   "source": [
    "В целом из предыдущих гистограмм (1 и 3) видно, что распределение не является нормльным, но проверим это с помощью статистичесих методов. Параметрические статистические методы чувствительны к выбросам (аномалиям), т.к. в них считается среднее значение, поэтому будем пользоваться данными из drop_abnormality, где удалены выбросы."
   ]
  },
  {
   "cell_type": "markdown",
   "metadata": {},
   "source": [
    "***Рассмотрим визуальные представления (квантиль-квантиль график) и расчитаем p-уровень значимости по статистическим тестам***"
   ]
  },
  {
   "cell_type": "code",
   "execution_count": 35,
   "metadata": {},
   "outputs": [],
   "source": [
    "from statsmodels.graphics.gofplots import qqplot"
   ]
  },
  {
   "cell_type": "code",
   "execution_count": 37,
   "metadata": {},
   "outputs": [
    {
     "data": {
      "image/png": "[encoded data removed]",
      "text/plain": [
       "<Figure size 432x288 with 1 Axes>"
      ]
     },
     "metadata": {},
     "output_type": "display_data"
    }
   ],
   "source": [
    "qqplot(data.total_amount, line='r')\n",
    "plt.title('Распределние \"total_amount\" по всей выборке')\n",
    "plt.show()"
   ]
  },
  {
   "cell_type": "markdown",
   "metadata": {},
   "source": [
    "* Еще раз можно убедиться в сильных выбросах на концах выборки (min, max значения). На первый взгляд кажется, что если отбросить выбросы, то оставшиеся данные хорошо лежат на теоретической прямой нормального распределения. Дальше будем использовать данные с удаленными выбросами. Рассмотрим эти данные на аналогичном графике."
   ]
  },
  {
   "cell_type": "code",
   "execution_count": 38,
   "metadata": {},
   "outputs": [
    {
     "data": {
      "image/png": "[encoded data removed]",
      "text/plain": [
       "<Figure size 432x288 with 1 Axes>"
      ]
     },
     "metadata": {},
     "output_type": "display_data"
    }
   ],
   "source": [
    "qqplot(drop_abnormality.total_amount, line='r')\n",
    "plt.title('Распределние \"total_amount\" без выбросов')\n",
    "plt.show()"
   ]
  },
  {
   "cell_type": "markdown",
   "metadata": {},
   "source": [
    "* Даже удалив выбросы, распределение не похоже на нормлаьное. Но все равно проверим гипотезу статистическими тестами."
   ]
  },
  {
   "cell_type": "code",
   "execution_count": 14,
   "metadata": {},
   "outputs": [
    {
     "name": "stdout",
     "output_type": "stream",
     "text": [
      "Kolmogorov-Smirnov statistics=0.995, p-value=0.000\n",
      "Shapiro-Wilk statistics=0.880, p-value=0.000\n",
      "D'Agostino and Pearson's statistics=85733.018, p-value=0.000\n"
     ]
    }
   ],
   "source": [
    "# Import Kolmogorov-Smirnov; Shapiro-Wilk; D'Agostino and Pearson's tests\n",
    "\n",
    "from scipy.stats import kstest, shapiro, normaltest\n",
    "\n",
    "methods = ['Kolmogorov-Smirnov', 'Shapiro-Wilk', \"D'Agostino and Pearson's\"]\n",
    "tests = [kstest, shapiro, normaltest]\n",
    "\n",
    "for method, test in enumerate(tests):\n",
    "    if test == kstest:        \n",
    "        stat, p = test(drop_abnormality.total_amount, 'norm')\n",
    "    else:\n",
    "        stat, p = test(drop_abnormality.total_amount)\n",
    "    print('%s statistics=%.3f, p-value=%.3f' % (methods[method], stat, p))"
   ]
  },
  {
   "cell_type": "markdown",
   "metadata": {},
   "source": [
    "# Вывод:\n",
    "    \n",
    "- Все 3 теста показали р-уровень значимости меньше 0.05. Следовательно выборка не является нормальной.\n",
    "- Из гистограммы 3 видно, что наибольшее количество оплат происходит от 7 до 15-20 $, что вполне логично и показывает, что люди чаще используют такси для средних расстояний. А совсем короткие поездки или очень длинные более редкие."
   ]
  },
  {
   "cell_type": "markdown",
   "metadata": {},
   "source": [
    "# 4. Модель описывающая тариф (стоимость поездки от других факторов)"
   ]
  },
  {
   "cell_type": "markdown",
   "metadata": {},
   "source": [
    "- Для описания тарифа я буду использовать хорошо интерпретируемую модель машинного обучения - Линейную регрессию"
   ]
  },
  {
   "cell_type": "code",
   "execution_count": 39,
   "metadata": {},
   "outputs": [],
   "source": [
    "from sklearn.linear_model import LinearRegression\n",
    "from sklearn.preprocessing import StandardScaler"
   ]
  },
  {
   "cell_type": "code",
   "execution_count": 40,
   "metadata": {},
   "outputs": [],
   "source": [
    "# Создадим данные для модели машинного обучения (Х - признаковое описание, у - зависимая переменная (цена))\n",
    "\n",
    "X = data[(data['total_amount'] > 0) & (data['total_amount'] < mean + 3*std)] # уберем выбросы\n",
    "X.drop(time_cols, axis=1, inplace=True) # уберем колонки времени, модели они не пригодятся\n",
    "y = X.pop('total_amount') # целевая переменная"
   ]
  },
  {
   "cell_type": "code",
   "execution_count": 41,
   "metadata": {},
   "outputs": [
    {
     "data": {
      "text/html": [
       "<div>\n",
       "<style scoped>\n",
       "    .dataframe tbody tr th:only-of-type {\n",
       "        vertical-align: middle;\n",
       "    }\n",
       "\n",
       "    .dataframe tbody tr th {\n",
       "        vertical-align: top;\n",
       "    }\n",
       "\n",
       "    .dataframe thead th {\n",
       "        text-align: right;\n",
       "    }\n",
       "</style>\n",
       "<table border=\"1\" class=\"dataframe\">\n",
       "  <thead>\n",
       "    <tr style=\"text-align: right;\">\n",
       "      <th></th>\n",
       "      <th>VendorID</th>\n",
       "      <th>store_and_fwd_flag</th>\n",
       "      <th>RatecodeID</th>\n",
       "      <th>PULocationID</th>\n",
       "      <th>DOLocationID</th>\n",
       "      <th>passenger_count</th>\n",
       "      <th>trip_distance</th>\n",
       "      <th>fare_amount</th>\n",
       "      <th>extra</th>\n",
       "      <th>mta_tax</th>\n",
       "      <th>tip_amount</th>\n",
       "      <th>tolls_amount</th>\n",
       "      <th>improvement_surcharge</th>\n",
       "      <th>payment_type</th>\n",
       "      <th>trip_type</th>\n",
       "      <th>congestion_surcharge</th>\n",
       "    </tr>\n",
       "  </thead>\n",
       "  <tbody>\n",
       "    <tr>\n",
       "      <th>0</th>\n",
       "      <td>2.0</td>\n",
       "      <td>N</td>\n",
       "      <td>1.0</td>\n",
       "      <td>264</td>\n",
       "      <td>264</td>\n",
       "      <td>5.0</td>\n",
       "      <td>0.00</td>\n",
       "      <td>3.5</td>\n",
       "      <td>0.50</td>\n",
       "      <td>0.5</td>\n",
       "      <td>0.01</td>\n",
       "      <td>0.0</td>\n",
       "      <td>0.3</td>\n",
       "      <td>1.0</td>\n",
       "      <td>1.0</td>\n",
       "      <td>0.00</td>\n",
       "    </tr>\n",
       "    <tr>\n",
       "      <th>1</th>\n",
       "      <td>2.0</td>\n",
       "      <td>N</td>\n",
       "      <td>5.0</td>\n",
       "      <td>66</td>\n",
       "      <td>65</td>\n",
       "      <td>2.0</td>\n",
       "      <td>1.28</td>\n",
       "      <td>20.0</td>\n",
       "      <td>0.00</td>\n",
       "      <td>0.0</td>\n",
       "      <td>4.06</td>\n",
       "      <td>0.0</td>\n",
       "      <td>0.3</td>\n",
       "      <td>1.0</td>\n",
       "      <td>2.0</td>\n",
       "      <td>0.00</td>\n",
       "    </tr>\n",
       "    <tr>\n",
       "      <th>2</th>\n",
       "      <td>2.0</td>\n",
       "      <td>N</td>\n",
       "      <td>1.0</td>\n",
       "      <td>181</td>\n",
       "      <td>228</td>\n",
       "      <td>1.0</td>\n",
       "      <td>2.47</td>\n",
       "      <td>10.5</td>\n",
       "      <td>0.50</td>\n",
       "      <td>0.5</td>\n",
       "      <td>3.54</td>\n",
       "      <td>0.0</td>\n",
       "      <td>0.3</td>\n",
       "      <td>1.0</td>\n",
       "      <td>1.0</td>\n",
       "      <td>0.00</td>\n",
       "    </tr>\n",
       "    <tr>\n",
       "      <th>3</th>\n",
       "      <td>1.0</td>\n",
       "      <td>N</td>\n",
       "      <td>1.0</td>\n",
       "      <td>129</td>\n",
       "      <td>263</td>\n",
       "      <td>2.0</td>\n",
       "      <td>6.30</td>\n",
       "      <td>21.0</td>\n",
       "      <td>3.25</td>\n",
       "      <td>0.5</td>\n",
       "      <td>0.00</td>\n",
       "      <td>0.0</td>\n",
       "      <td>0.3</td>\n",
       "      <td>2.0</td>\n",
       "      <td>1.0</td>\n",
       "      <td>2.75</td>\n",
       "    </tr>\n",
       "    <tr>\n",
       "      <th>4</th>\n",
       "      <td>1.0</td>\n",
       "      <td>N</td>\n",
       "      <td>1.0</td>\n",
       "      <td>210</td>\n",
       "      <td>150</td>\n",
       "      <td>1.0</td>\n",
       "      <td>2.30</td>\n",
       "      <td>10.0</td>\n",
       "      <td>0.50</td>\n",
       "      <td>0.5</td>\n",
       "      <td>0.00</td>\n",
       "      <td>0.0</td>\n",
       "      <td>0.3</td>\n",
       "      <td>1.0</td>\n",
       "      <td>1.0</td>\n",
       "      <td>0.00</td>\n",
       "    </tr>\n",
       "  </tbody>\n",
       "</table>\n",
       "</div>"
      ],
      "text/plain": [
       "   VendorID store_and_fwd_flag  RatecodeID  PULocationID  DOLocationID  \\\n",
       "0       2.0                  N         1.0           264           264   \n",
       "1       2.0                  N         5.0            66            65   \n",
       "2       2.0                  N         1.0           181           228   \n",
       "3       1.0                  N         1.0           129           263   \n",
       "4       1.0                  N         1.0           210           150   \n",
       "\n",
       "   passenger_count  trip_distance  fare_amount  extra  mta_tax  tip_amount  \\\n",
       "0              5.0           0.00          3.5   0.50      0.5        0.01   \n",
       "1              2.0           1.28         20.0   0.00      0.0        4.06   \n",
       "2              1.0           2.47         10.5   0.50      0.5        3.54   \n",
       "3              2.0           6.30         21.0   3.25      0.5        0.00   \n",
       "4              1.0           2.30         10.0   0.50      0.5        0.00   \n",
       "\n",
       "   tolls_amount  improvement_surcharge  payment_type  trip_type  \\\n",
       "0           0.0                    0.3           1.0        1.0   \n",
       "1           0.0                    0.3           1.0        2.0   \n",
       "2           0.0                    0.3           1.0        1.0   \n",
       "3           0.0                    0.3           2.0        1.0   \n",
       "4           0.0                    0.3           1.0        1.0   \n",
       "\n",
       "   congestion_surcharge  \n",
       "0                  0.00  \n",
       "1                  0.00  \n",
       "2                  0.00  \n",
       "3                  2.75  \n",
       "4                  0.00  "
      ]
     },
     "execution_count": 41,
     "metadata": {},
     "output_type": "execute_result"
    }
   ],
   "source": [
    "X.head()"
   ]
  },
  {
   "cell_type": "code",
   "execution_count": 44,
   "metadata": {
    "collapsed": true
   },
   "outputs": [
    {
     "name": "stdout",
     "output_type": "stream",
     "text": [
      "Колонка \"VendorID\" имеет значений: 2\n",
      "Колонка \"lpep_pickup_datetime\" имеет значений: 331157\n",
      "Колонка \"lpep_dropoff_datetime\" имеет значений: 331043\n",
      "Колонка \"store_and_fwd_flag\" имеет значений: 2\n",
      "Колонка \"RatecodeID\" имеет значений: 7\n",
      "Колонка \"PULocationID\" имеет значений: 251\n",
      "Колонка \"DOLocationID\" имеет значений: 257\n",
      "Колонка \"passenger_count\" имеет значений: 10\n",
      "Колонка \"trip_distance\" имеет значений: 3555\n",
      "Колонка \"fare_amount\" имеет значений: 6037\n",
      "Колонка \"extra\" имеет значений: 13\n",
      "Колонка \"mta_tax\" имеет значений: 4\n",
      "Колонка \"tip_amount\" имеет значений: 1468\n",
      "Колонка \"tolls_amount\" имеет значений: 94\n",
      "Колонка \"improvement_surcharge\" имеет значений: 3\n",
      "Колонка \"total_amount\" имеет значений: 7072\n",
      "Колонка \"payment_type\" имеет значений: 5\n",
      "Колонка \"trip_type\" имеет значений: 2\n",
      "Колонка \"congestion_surcharge\" имеет значений: 5\n"
     ]
    }
   ],
   "source": [
    "for col in data.columns:\n",
    "    print(f'Колонка \"{col}\" имеет значений: {data[col].nunique()}')"
   ]
  },
  {
   "cell_type": "markdown",
   "metadata": {},
   "source": [
    "В исходных данных было много пропущенных значений, еще раз посмотрим на них"
   ]
  },
  {
   "cell_type": "code",
   "execution_count": 42,
   "metadata": {},
   "outputs": [
    {
     "data": {
      "text/plain": [
       "VendorID                 111709\n",
       "store_and_fwd_flag       111709\n",
       "RatecodeID               111709\n",
       "PULocationID                  0\n",
       "DOLocationID                  0\n",
       "passenger_count          111709\n",
       "trip_distance                 0\n",
       "fare_amount                   0\n",
       "extra                         0\n",
       "mta_tax                       0\n",
       "tip_amount                    0\n",
       "tolls_amount                  0\n",
       "improvement_surcharge         0\n",
       "payment_type             111709\n",
       "trip_type                111710\n",
       "congestion_surcharge     111709\n",
       "dtype: int64"
      ]
     },
     "execution_count": 42,
     "metadata": {},
     "output_type": "execute_result"
    }
   ],
   "source": [
    "X.isnull().sum()"
   ]
  },
  {
   "cell_type": "markdown",
   "metadata": {},
   "source": [
    "Заменим пропущенные значения медианными (если брать среднее могут появиться не целые числа в категориальных столбцах. Нам этого не надо)"
   ]
  },
  {
   "cell_type": "code",
   "execution_count": 43,
   "metadata": {},
   "outputs": [],
   "source": [
    "for col in X.columns:\n",
    "    if X[col].isnull().any():\n",
    "        if X[col].dtype == 'object':\n",
    "            pass\n",
    "        else:\n",
    "            X[col].fillna(X[col].median(), inplace=True)"
   ]
  },
  {
   "cell_type": "code",
   "execution_count": 44,
   "metadata": {},
   "outputs": [
    {
     "data": {
      "text/plain": [
       "VendorID                      0\n",
       "store_and_fwd_flag       111709\n",
       "RatecodeID                    0\n",
       "PULocationID                  0\n",
       "DOLocationID                  0\n",
       "passenger_count               0\n",
       "trip_distance                 0\n",
       "fare_amount                   0\n",
       "extra                         0\n",
       "mta_tax                       0\n",
       "tip_amount                    0\n",
       "tolls_amount                  0\n",
       "improvement_surcharge         0\n",
       "payment_type                  0\n",
       "trip_type                     0\n",
       "congestion_surcharge          0\n",
       "dtype: int64"
      ]
     },
     "execution_count": 44,
     "metadata": {},
     "output_type": "execute_result"
    }
   ],
   "source": [
    "X.isnull().sum()"
   ]
  },
  {
   "cell_type": "code",
   "execution_count": 45,
   "metadata": {},
   "outputs": [],
   "source": [
    "X.drop('store_and_fwd_flag', inplace=True, axis=1) # уберем колонку store_and_fwd_flag. \n",
    "                                                   # Она описывает состояние записи до заказа такси и не информативна для модели"
   ]
  },
  {
   "cell_type": "code",
   "execution_count": 46,
   "metadata": {},
   "outputs": [
    {
     "data": {
      "text/html": [
       "<div>\n",
       "<style scoped>\n",
       "    .dataframe tbody tr th:only-of-type {\n",
       "        vertical-align: middle;\n",
       "    }\n",
       "\n",
       "    .dataframe tbody tr th {\n",
       "        vertical-align: top;\n",
       "    }\n",
       "\n",
       "    .dataframe thead th {\n",
       "        text-align: right;\n",
       "    }\n",
       "</style>\n",
       "<table border=\"1\" class=\"dataframe\">\n",
       "  <thead>\n",
       "    <tr style=\"text-align: right;\">\n",
       "      <th></th>\n",
       "      <th>VendorID</th>\n",
       "      <th>RatecodeID</th>\n",
       "      <th>PULocationID</th>\n",
       "      <th>DOLocationID</th>\n",
       "      <th>passenger_count</th>\n",
       "      <th>trip_distance</th>\n",
       "      <th>fare_amount</th>\n",
       "      <th>extra</th>\n",
       "      <th>mta_tax</th>\n",
       "      <th>tip_amount</th>\n",
       "      <th>tolls_amount</th>\n",
       "      <th>improvement_surcharge</th>\n",
       "      <th>payment_type</th>\n",
       "      <th>trip_type</th>\n",
       "      <th>congestion_surcharge</th>\n",
       "    </tr>\n",
       "  </thead>\n",
       "  <tbody>\n",
       "    <tr>\n",
       "      <th>0</th>\n",
       "      <td>0.379844</td>\n",
       "      <td>-0.119437</td>\n",
       "      <td>2.200876</td>\n",
       "      <td>1.770072</td>\n",
       "      <td>4.519505</td>\n",
       "      <td>-0.919148</td>\n",
       "      <td>-1.081318</td>\n",
       "      <td>-0.290954</td>\n",
       "      <td>0.517565</td>\n",
       "      <td>-0.539475</td>\n",
       "      <td>-0.206183</td>\n",
       "      <td>0.192595</td>\n",
       "      <td>-0.695585</td>\n",
       "      <td>-0.123379</td>\n",
       "      <td>-0.385058</td>\n",
       "    </tr>\n",
       "    <tr>\n",
       "      <th>1</th>\n",
       "      <td>0.379844</td>\n",
       "      <td>7.274487</td>\n",
       "      <td>-0.588104</td>\n",
       "      <td>-0.834634</td>\n",
       "      <td>0.926130</td>\n",
       "      <td>-0.567294</td>\n",
       "      <td>0.453088</td>\n",
       "      <td>-0.730222</td>\n",
       "      <td>-1.927454</td>\n",
       "      <td>1.997921</td>\n",
       "      <td>-0.206183</td>\n",
       "      <td>0.192595</td>\n",
       "      <td>-0.695585</td>\n",
       "      <td>8.105096</td>\n",
       "      <td>-0.385058</td>\n",
       "    </tr>\n",
       "    <tr>\n",
       "      <th>2</th>\n",
       "      <td>0.379844</td>\n",
       "      <td>-0.119437</td>\n",
       "      <td>1.031758</td>\n",
       "      <td>1.298869</td>\n",
       "      <td>-0.271661</td>\n",
       "      <td>-0.240179</td>\n",
       "      <td>-0.430358</td>\n",
       "      <td>-0.290954</td>\n",
       "      <td>0.517565</td>\n",
       "      <td>1.672132</td>\n",
       "      <td>-0.206183</td>\n",
       "      <td>0.192595</td>\n",
       "      <td>-0.695585</td>\n",
       "      <td>-0.123379</td>\n",
       "      <td>-0.385058</td>\n",
       "    </tr>\n",
       "    <tr>\n",
       "      <th>3</th>\n",
       "      <td>-2.632658</td>\n",
       "      <td>-0.119437</td>\n",
       "      <td>0.299299</td>\n",
       "      <td>1.756983</td>\n",
       "      <td>0.926130</td>\n",
       "      <td>0.812633</td>\n",
       "      <td>0.546082</td>\n",
       "      <td>2.125021</td>\n",
       "      <td>0.517565</td>\n",
       "      <td>-0.545740</td>\n",
       "      <td>-0.206183</td>\n",
       "      <td>0.192595</td>\n",
       "      <td>1.386039</td>\n",
       "      <td>-0.123379</td>\n",
       "      <td>2.597412</td>\n",
       "    </tr>\n",
       "    <tr>\n",
       "      <th>4</th>\n",
       "      <td>-2.632658</td>\n",
       "      <td>-0.119437</td>\n",
       "      <td>1.440245</td>\n",
       "      <td>0.277929</td>\n",
       "      <td>-0.271661</td>\n",
       "      <td>-0.286910</td>\n",
       "      <td>-0.476855</td>\n",
       "      <td>-0.290954</td>\n",
       "      <td>0.517565</td>\n",
       "      <td>-0.545740</td>\n",
       "      <td>-0.206183</td>\n",
       "      <td>0.192595</td>\n",
       "      <td>-0.695585</td>\n",
       "      <td>-0.123379</td>\n",
       "      <td>-0.385058</td>\n",
       "    </tr>\n",
       "  </tbody>\n",
       "</table>\n",
       "</div>"
      ],
      "text/plain": [
       "   VendorID  RatecodeID  PULocationID  DOLocationID  passenger_count  \\\n",
       "0  0.379844   -0.119437      2.200876      1.770072         4.519505   \n",
       "1  0.379844    7.274487     -0.588104     -0.834634         0.926130   \n",
       "2  0.379844   -0.119437      1.031758      1.298869        -0.271661   \n",
       "3 -2.632658   -0.119437      0.299299      1.756983         0.926130   \n",
       "4 -2.632658   -0.119437      1.440245      0.277929        -0.271661   \n",
       "\n",
       "   trip_distance  fare_amount     extra   mta_tax  tip_amount  tolls_amount  \\\n",
       "0      -0.919148    -1.081318 -0.290954  0.517565   -0.539475     -0.206183   \n",
       "1      -0.567294     0.453088 -0.730222 -1.927454    1.997921     -0.206183   \n",
       "2      -0.240179    -0.430358 -0.290954  0.517565    1.672132     -0.206183   \n",
       "3       0.812633     0.546082  2.125021  0.517565   -0.545740     -0.206183   \n",
       "4      -0.286910    -0.476855 -0.290954  0.517565   -0.545740     -0.206183   \n",
       "\n",
       "   improvement_surcharge  payment_type  trip_type  congestion_surcharge  \n",
       "0               0.192595     -0.695585  -0.123379             -0.385058  \n",
       "1               0.192595     -0.695585   8.105096             -0.385058  \n",
       "2               0.192595     -0.695585  -0.123379             -0.385058  \n",
       "3               0.192595      1.386039  -0.123379              2.597412  \n",
       "4               0.192595     -0.695585  -0.123379             -0.385058  "
      ]
     },
     "execution_count": 46,
     "metadata": {},
     "output_type": "execute_result"
    }
   ],
   "source": [
    "# Применим нормировку к данным, т.к. Linear Regression чувствительна к масштабу данных\n",
    "\n",
    "scaler = StandardScaler()\n",
    "scaled_X = pd.DataFrame(scaler.fit_transform(X), columns=X.columns)\n",
    "scaled_X.head()"
   ]
  },
  {
   "cell_type": "code",
   "execution_count": 47,
   "metadata": {},
   "outputs": [
    {
     "data": {
      "text/plain": [
       "0.9990859294021606"
      ]
     },
     "execution_count": 47,
     "metadata": {},
     "output_type": "execute_result"
    }
   ],
   "source": [
    "model = LinearRegression()\n",
    "model.fit(scaled_X, y)\n",
    "\n",
    "# посмотрим на точность модели\n",
    "model.score(scaled_X, y)"
   ]
  },
  {
   "cell_type": "markdown",
   "metadata": {},
   "source": [
    "Такая высокая точноть объясняется тем, что модель переобучилась (выучила все закономерности) данного датасета. Посмотрим на коэффициенты модели."
   ]
  },
  {
   "cell_type": "code",
   "execution_count": 48,
   "metadata": {},
   "outputs": [],
   "source": [
    "names = ['Intercept']\n",
    "for n in scaled_X.columns:\n",
    "    names.append(n)\n",
    "\n",
    "coefs = [model.intercept_]\n",
    "for n in model.coef_:\n",
    "    coefs.append(n)\n",
    "\n",
    "coef_df = pd.DataFrame(data=coefs, index=names, columns=['Scores'])"
   ]
  },
  {
   "cell_type": "code",
   "execution_count": 49,
   "metadata": {},
   "outputs": [
    {
     "data": {
      "text/html": [
       "<div>\n",
       "<style scoped>\n",
       "    .dataframe tbody tr th:only-of-type {\n",
       "        vertical-align: middle;\n",
       "    }\n",
       "\n",
       "    .dataframe tbody tr th {\n",
       "        vertical-align: top;\n",
       "    }\n",
       "\n",
       "    .dataframe thead th {\n",
       "        text-align: right;\n",
       "    }\n",
       "</style>\n",
       "<table border=\"1\" class=\"dataframe\">\n",
       "  <thead>\n",
       "    <tr style=\"text-align: right;\">\n",
       "      <th></th>\n",
       "      <th>Scores</th>\n",
       "    </tr>\n",
       "  </thead>\n",
       "  <tbody>\n",
       "    <tr>\n",
       "      <th>Intercept</th>\n",
       "      <td>18.093250</td>\n",
       "    </tr>\n",
       "    <tr>\n",
       "      <th>VendorID</th>\n",
       "      <td>0.144131</td>\n",
       "    </tr>\n",
       "    <tr>\n",
       "      <th>RatecodeID</th>\n",
       "      <td>0.002844</td>\n",
       "    </tr>\n",
       "    <tr>\n",
       "      <th>PULocationID</th>\n",
       "      <td>0.003924</td>\n",
       "    </tr>\n",
       "    <tr>\n",
       "      <th>DOLocationID</th>\n",
       "      <td>-0.001311</td>\n",
       "    </tr>\n",
       "    <tr>\n",
       "      <th>passenger_count</th>\n",
       "      <td>-0.002741</td>\n",
       "    </tr>\n",
       "    <tr>\n",
       "      <th>trip_distance</th>\n",
       "      <td>-0.061752</td>\n",
       "    </tr>\n",
       "    <tr>\n",
       "      <th>fare_amount</th>\n",
       "      <td>10.840516</td>\n",
       "    </tr>\n",
       "    <tr>\n",
       "      <th>extra</th>\n",
       "      <td>0.967158</td>\n",
       "    </tr>\n",
       "    <tr>\n",
       "      <th>mta_tax</th>\n",
       "      <td>0.173897</td>\n",
       "    </tr>\n",
       "    <tr>\n",
       "      <th>tip_amount</th>\n",
       "      <td>1.600890</td>\n",
       "    </tr>\n",
       "    <tr>\n",
       "      <th>tolls_amount</th>\n",
       "      <td>1.256989</td>\n",
       "    </tr>\n",
       "    <tr>\n",
       "      <th>improvement_surcharge</th>\n",
       "      <td>0.036104</td>\n",
       "    </tr>\n",
       "    <tr>\n",
       "      <th>payment_type</th>\n",
       "      <td>-0.020975</td>\n",
       "    </tr>\n",
       "    <tr>\n",
       "      <th>trip_type</th>\n",
       "      <td>-0.028878</td>\n",
       "    </tr>\n",
       "    <tr>\n",
       "      <th>congestion_surcharge</th>\n",
       "      <td>0.793222</td>\n",
       "    </tr>\n",
       "  </tbody>\n",
       "</table>\n",
       "</div>"
      ],
      "text/plain": [
       "                          Scores\n",
       "Intercept              18.093250\n",
       "VendorID                0.144131\n",
       "RatecodeID              0.002844\n",
       "PULocationID            0.003924\n",
       "DOLocationID           -0.001311\n",
       "passenger_count        -0.002741\n",
       "trip_distance          -0.061752\n",
       "fare_amount            10.840516\n",
       "extra                   0.967158\n",
       "mta_tax                 0.173897\n",
       "tip_amount              1.600890\n",
       "tolls_amount            1.256989\n",
       "improvement_surcharge   0.036104\n",
       "payment_type           -0.020975\n",
       "trip_type              -0.028878\n",
       "congestion_surcharge    0.793222"
      ]
     },
     "execution_count": 49,
     "metadata": {},
     "output_type": "execute_result"
    }
   ],
   "source": [
    "coef_df"
   ]
  },
  {
   "cell_type": "markdown",
   "metadata": {},
   "source": [
    "Из таблицы мы видим, что некоторые коэффициенты близки к нулю. Это значит, что соответствующая колонка не вносит вклада в прогнозирование. Т.е. какое бы большое число не значилось в колонке датасета (например RatecodeID или passenger_count) модель их занулит. Поэтому эти признаки можно убрать из модели. Оставим только те признаки, коэффициент при которых около 1 или больше и переобучим модель."
   ]
  },
  {
   "cell_type": "code",
   "execution_count": 50,
   "metadata": {},
   "outputs": [
    {
     "data": {
      "text/html": [
       "<div>\n",
       "<style scoped>\n",
       "    .dataframe tbody tr th:only-of-type {\n",
       "        vertical-align: middle;\n",
       "    }\n",
       "\n",
       "    .dataframe tbody tr th {\n",
       "        vertical-align: top;\n",
       "    }\n",
       "\n",
       "    .dataframe thead th {\n",
       "        text-align: right;\n",
       "    }\n",
       "</style>\n",
       "<table border=\"1\" class=\"dataframe\">\n",
       "  <thead>\n",
       "    <tr style=\"text-align: right;\">\n",
       "      <th></th>\n",
       "      <th>fare_amount</th>\n",
       "      <th>extra</th>\n",
       "      <th>tip_amount</th>\n",
       "      <th>tolls_amount</th>\n",
       "      <th>congestion_surcharge</th>\n",
       "    </tr>\n",
       "  </thead>\n",
       "  <tbody>\n",
       "    <tr>\n",
       "      <th>0</th>\n",
       "      <td>-1.081318</td>\n",
       "      <td>-0.290954</td>\n",
       "      <td>-0.539475</td>\n",
       "      <td>-0.206183</td>\n",
       "      <td>-0.385058</td>\n",
       "    </tr>\n",
       "    <tr>\n",
       "      <th>1</th>\n",
       "      <td>0.453088</td>\n",
       "      <td>-0.730222</td>\n",
       "      <td>1.997921</td>\n",
       "      <td>-0.206183</td>\n",
       "      <td>-0.385058</td>\n",
       "    </tr>\n",
       "    <tr>\n",
       "      <th>2</th>\n",
       "      <td>-0.430358</td>\n",
       "      <td>-0.290954</td>\n",
       "      <td>1.672132</td>\n",
       "      <td>-0.206183</td>\n",
       "      <td>-0.385058</td>\n",
       "    </tr>\n",
       "    <tr>\n",
       "      <th>3</th>\n",
       "      <td>0.546082</td>\n",
       "      <td>2.125021</td>\n",
       "      <td>-0.545740</td>\n",
       "      <td>-0.206183</td>\n",
       "      <td>2.597412</td>\n",
       "    </tr>\n",
       "    <tr>\n",
       "      <th>4</th>\n",
       "      <td>-0.476855</td>\n",
       "      <td>-0.290954</td>\n",
       "      <td>-0.545740</td>\n",
       "      <td>-0.206183</td>\n",
       "      <td>-0.385058</td>\n",
       "    </tr>\n",
       "  </tbody>\n",
       "</table>\n",
       "</div>"
      ],
      "text/plain": [
       "   fare_amount     extra  tip_amount  tolls_amount  congestion_surcharge\n",
       "0    -1.081318 -0.290954   -0.539475     -0.206183             -0.385058\n",
       "1     0.453088 -0.730222    1.997921     -0.206183             -0.385058\n",
       "2    -0.430358 -0.290954    1.672132     -0.206183             -0.385058\n",
       "3     0.546082  2.125021   -0.545740     -0.206183              2.597412\n",
       "4    -0.476855 -0.290954   -0.545740     -0.206183             -0.385058"
      ]
     },
     "execution_count": 50,
     "metadata": {},
     "output_type": "execute_result"
    }
   ],
   "source": [
    "usefull_cols_X = scaled_X[['fare_amount', 'extra', 'tip_amount', 'tolls_amount', 'congestion_surcharge']]\n",
    "usefull_cols_X.head()"
   ]
  },
  {
   "cell_type": "markdown",
   "metadata": {},
   "source": [
    "В таблице остались различные сборы, чаевые и расчетные параметры. Они будут влиять на конечную цену поездки. И это логично, так как количество пассажиров или метод оплаты не должен сильно влиять на конечную цену."
   ]
  },
  {
   "cell_type": "code",
   "execution_count": 51,
   "metadata": {},
   "outputs": [
    {
     "data": {
      "text/plain": [
       "0.9988483856256825"
      ]
     },
     "execution_count": 51,
     "metadata": {},
     "output_type": "execute_result"
    }
   ],
   "source": [
    "model_2 = LinearRegression()\n",
    "model_2.fit(usefull_cols_X, y)\n",
    "\n",
    "model_2.score(usefull_cols_X, y)"
   ]
  },
  {
   "cell_type": "markdown",
   "metadata": {},
   "source": [
    "Score стал незначительно меньше, что подтверждает вывод о незначительном вкладе исключенных колонок"
   ]
  },
  {
   "cell_type": "code",
   "execution_count": 52,
   "metadata": {},
   "outputs": [],
   "source": [
    "names_2 = ['Intercept']\n",
    "for name in usefull_cols_X.columns:\n",
    "    names_2.append(name)\n",
    "\n",
    "coefs_2 = [round(model_2.intercept_,2)]\n",
    "for coef in model_2.coef_:\n",
    "    coefs_2.append(round(coef,2))\n",
    "\n",
    "coef_df_2 = pd.DataFrame(data=coefs_2, index=names_2, columns=['Scores'])"
   ]
  },
  {
   "cell_type": "code",
   "execution_count": 53,
   "metadata": {},
   "outputs": [
    {
     "data": {
      "text/html": [
       "<div>\n",
       "<style scoped>\n",
       "    .dataframe tbody tr th:only-of-type {\n",
       "        vertical-align: middle;\n",
       "    }\n",
       "\n",
       "    .dataframe tbody tr th {\n",
       "        vertical-align: top;\n",
       "    }\n",
       "\n",
       "    .dataframe thead th {\n",
       "        text-align: right;\n",
       "    }\n",
       "</style>\n",
       "<table border=\"1\" class=\"dataframe\">\n",
       "  <thead>\n",
       "    <tr style=\"text-align: right;\">\n",
       "      <th></th>\n",
       "      <th>Scores</th>\n",
       "    </tr>\n",
       "  </thead>\n",
       "  <tbody>\n",
       "    <tr>\n",
       "      <th>Intercept</th>\n",
       "      <td>18.09</td>\n",
       "    </tr>\n",
       "    <tr>\n",
       "      <th>fare_amount</th>\n",
       "      <td>10.74</td>\n",
       "    </tr>\n",
       "    <tr>\n",
       "      <th>extra</th>\n",
       "      <td>0.92</td>\n",
       "    </tr>\n",
       "    <tr>\n",
       "      <th>tip_amount</th>\n",
       "      <td>1.64</td>\n",
       "    </tr>\n",
       "    <tr>\n",
       "      <th>tolls_amount</th>\n",
       "      <td>1.25</td>\n",
       "    </tr>\n",
       "    <tr>\n",
       "      <th>congestion_surcharge</th>\n",
       "      <td>0.81</td>\n",
       "    </tr>\n",
       "  </tbody>\n",
       "</table>\n",
       "</div>"
      ],
      "text/plain": [
       "                      Scores\n",
       "Intercept              18.09\n",
       "fare_amount            10.74\n",
       "extra                   0.92\n",
       "tip_amount              1.64\n",
       "tolls_amount            1.25\n",
       "congestion_surcharge    0.81"
      ]
     },
     "execution_count": 53,
     "metadata": {},
     "output_type": "execute_result"
    }
   ],
   "source": [
    "coef_df_2"
   ]
  },
  {
   "cell_type": "markdown",
   "metadata": {},
   "source": [
    "## Выводы:\n",
    "    \n",
    "- Основные факторы влияющие на цену поездки приведены в таблице выше.\n",
    "- Как было уже описано, в таблице присутствуют различные надбавки, сборы, чаевые, рассчетные значения цены за пройденный метр и отсутствуют факторы количества пассажиров, способа оплаты и т.д. Что вполне разумно, так как последние вносят незначительный вклад в ценообразование.\n",
    "- Стоит заметить что в таблице присутствует значение Intercept. Это так называемый свободный член. Он показывает какое значение выдаст модель, если ничего не известно про объект прогнозирования (по сути, это среднее значение по выборке).\n",
    "- В таблице коэффициентов отсутствуют отрицательные значения и кажется, что сумма чека может только увеличиваться, но я делал нормировку даных (вычитание среднего значения и деление на дисперсию). И таким образом после процедуры StandardScaler в данных появились отрицательные значения, хотя в изначальном датасете их не было."
   ]
  },
  {
   "cell_type": "markdown",
   "metadata": {},
   "source": [
    "# 5. Скидки и акции"
   ]
  },
  {
   "cell_type": "markdown",
   "metadata": {},
   "source": [
    "Рассмотрим сумму чеков и среднее значение по дням. Затем сделаем визуализацию полученных данных"
   ]
  },
  {
   "cell_type": "code",
   "execution_count": 54,
   "metadata": {},
   "outputs": [],
   "source": [
    "import datetime"
   ]
  },
  {
   "cell_type": "markdown",
   "metadata": {},
   "source": [
    "Проверим временные данные"
   ]
  },
  {
   "cell_type": "code",
   "execution_count": 57,
   "metadata": {},
   "outputs": [
    {
     "data": {
      "text/html": [
       "<div>\n",
       "<style scoped>\n",
       "    .dataframe tbody tr th:only-of-type {\n",
       "        vertical-align: middle;\n",
       "    }\n",
       "\n",
       "    .dataframe tbody tr th {\n",
       "        vertical-align: top;\n",
       "    }\n",
       "\n",
       "    .dataframe thead th {\n",
       "        text-align: right;\n",
       "    }\n",
       "</style>\n",
       "<table border=\"1\" class=\"dataframe\">\n",
       "  <thead>\n",
       "    <tr style=\"text-align: right;\">\n",
       "      <th></th>\n",
       "      <th>lpep_dropoff_datetime</th>\n",
       "      <th>total_amount</th>\n",
       "    </tr>\n",
       "  </thead>\n",
       "  <tbody>\n",
       "    <tr>\n",
       "      <th>293876</th>\n",
       "      <td>2008-12-31 23:12:08</td>\n",
       "      <td>0.00</td>\n",
       "    </tr>\n",
       "    <tr>\n",
       "      <th>129035</th>\n",
       "      <td>2009-01-01 00:17:31</td>\n",
       "      <td>9.80</td>\n",
       "    </tr>\n",
       "    <tr>\n",
       "      <th>129036</th>\n",
       "      <td>2009-01-01 00:45:10</td>\n",
       "      <td>11.55</td>\n",
       "    </tr>\n",
       "    <tr>\n",
       "      <th>87957</th>\n",
       "      <td>2009-01-01 00:58:27</td>\n",
       "      <td>11.80</td>\n",
       "    </tr>\n",
       "    <tr>\n",
       "      <th>129037</th>\n",
       "      <td>2009-01-01 01:00:23</td>\n",
       "      <td>10.05</td>\n",
       "    </tr>\n",
       "  </tbody>\n",
       "</table>\n",
       "</div>"
      ],
      "text/plain": [
       "       lpep_dropoff_datetime  total_amount\n",
       "293876   2008-12-31 23:12:08          0.00\n",
       "129035   2009-01-01 00:17:31          9.80\n",
       "129036   2009-01-01 00:45:10         11.55\n",
       "87957    2009-01-01 00:58:27         11.80\n",
       "129037   2009-01-01 01:00:23         10.05"
      ]
     },
     "execution_count": 57,
     "metadata": {},
     "output_type": "execute_result"
    }
   ],
   "source": [
    "date_df = data[['lpep_dropoff_datetime', 'total_amount']]\n",
    "date_df.sort_values('lpep_dropoff_datetime').head()"
   ]
  },
  {
   "cell_type": "code",
   "execution_count": 58,
   "metadata": {},
   "outputs": [
    {
     "data": {
      "text/plain": [
       "(Timestamp('2008-12-31 23:12:08'), Timestamp('2020-02-02 00:09:54'))"
      ]
     },
     "execution_count": 58,
     "metadata": {},
     "output_type": "execute_result"
    }
   ],
   "source": [
    "data['lpep_dropoff_datetime'].min(), data['lpep_dropoff_datetime'].max()"
   ]
  },
  {
   "cell_type": "markdown",
   "metadata": {},
   "source": [
    "Мы видим, что данные по времени не совсем \"чистые\". В описании к датасету было сказано, что данные предоставлены за январь 2020 года. Уберем лишние данные по времени и аномалии по стоимости поездки"
   ]
  },
  {
   "cell_type": "code",
   "execution_count": 59,
   "metadata": {},
   "outputs": [
    {
     "data": {
      "text/plain": [
       "(447770, 2)"
      ]
     },
     "execution_count": 59,
     "metadata": {},
     "output_type": "execute_result"
    }
   ],
   "source": [
    "date_df.shape"
   ]
  },
  {
   "cell_type": "code",
   "execution_count": 60,
   "metadata": {},
   "outputs": [],
   "source": [
    "start_day = datetime.datetime(2020, 1, 1)\n",
    "end_day = datetime.datetime(2020, 1, 31)\n",
    "\n",
    "date_df = date_df[(date_df['lpep_dropoff_datetime'].gt(start_day) & (date_df['lpep_dropoff_datetime'].lt(end_day)) &\n",
    "                   (date_df['total_amount'] > 0) & (date_df['total_amount'] < mean + 3*std))]"
   ]
  },
  {
   "cell_type": "code",
   "execution_count": 61,
   "metadata": {},
   "outputs": [
    {
     "data": {
      "text/html": [
       "<div>\n",
       "<style scoped>\n",
       "    .dataframe tbody tr th:only-of-type {\n",
       "        vertical-align: middle;\n",
       "    }\n",
       "\n",
       "    .dataframe tbody tr th {\n",
       "        vertical-align: top;\n",
       "    }\n",
       "\n",
       "    .dataframe thead th {\n",
       "        text-align: right;\n",
       "    }\n",
       "</style>\n",
       "<table border=\"1\" class=\"dataframe\">\n",
       "  <thead>\n",
       "    <tr style=\"text-align: right;\">\n",
       "      <th></th>\n",
       "      <th>lpep_dropoff_datetime</th>\n",
       "      <th>total_amount</th>\n",
       "    </tr>\n",
       "  </thead>\n",
       "  <tbody>\n",
       "    <tr>\n",
       "      <th>398</th>\n",
       "      <td>2020-01-01 00:01:09</td>\n",
       "      <td>7.30</td>\n",
       "    </tr>\n",
       "    <tr>\n",
       "      <th>181</th>\n",
       "      <td>2020-01-01 00:04:49</td>\n",
       "      <td>8.76</td>\n",
       "    </tr>\n",
       "    <tr>\n",
       "      <th>665</th>\n",
       "      <td>2020-01-01 00:05:04</td>\n",
       "      <td>30.30</td>\n",
       "    </tr>\n",
       "    <tr>\n",
       "      <th>320</th>\n",
       "      <td>2020-01-01 00:05:50</td>\n",
       "      <td>4.80</td>\n",
       "    </tr>\n",
       "    <tr>\n",
       "      <th>730</th>\n",
       "      <td>2020-01-01 00:06:20</td>\n",
       "      <td>4.80</td>\n",
       "    </tr>\n",
       "  </tbody>\n",
       "</table>\n",
       "</div>"
      ],
      "text/plain": [
       "    lpep_dropoff_datetime  total_amount\n",
       "398   2020-01-01 00:01:09          7.30\n",
       "181   2020-01-01 00:04:49          8.76\n",
       "665   2020-01-01 00:05:04         30.30\n",
       "320   2020-01-01 00:05:50          4.80\n",
       "730   2020-01-01 00:06:20          4.80"
      ]
     },
     "execution_count": 61,
     "metadata": {},
     "output_type": "execute_result"
    }
   ],
   "source": [
    "date_df.sort_values('lpep_dropoff_datetime').head()"
   ]
  },
  {
   "cell_type": "markdown",
   "metadata": {},
   "source": [
    "Начальная дата теперь правильная (1 января 2020г). Посмотрим на размер данных"
   ]
  },
  {
   "cell_type": "code",
   "execution_count": 62,
   "metadata": {},
   "outputs": [
    {
     "data": {
      "text/plain": [
       "(422736, 2)"
      ]
     },
     "execution_count": 62,
     "metadata": {},
     "output_type": "execute_result"
    }
   ],
   "source": [
    "date_df.shape"
   ]
  },
  {
   "cell_type": "markdown",
   "metadata": {},
   "source": [
    "Примерно 25000 записей ушло из выборки"
   ]
  },
  {
   "cell_type": "code",
   "execution_count": 63,
   "metadata": {},
   "outputs": [],
   "source": [
    "# Выделим из даты только день. Т.к. в дальнейшем будем по нему группировать\n",
    "\n",
    "date_df['day'] = date_df.lpep_dropoff_datetime.apply(lambda x: x.day)\n",
    "\n",
    "date_df.drop('lpep_dropoff_datetime', axis=1, inplace=True)"
   ]
  },
  {
   "cell_type": "code",
   "execution_count": 67,
   "metadata": {},
   "outputs": [
    {
     "data": {
      "text/html": [
       "<div>\n",
       "<style scoped>\n",
       "    .dataframe tbody tr th:only-of-type {\n",
       "        vertical-align: middle;\n",
       "    }\n",
       "\n",
       "    .dataframe tbody tr th {\n",
       "        vertical-align: top;\n",
       "    }\n",
       "\n",
       "    .dataframe thead th {\n",
       "        text-align: right;\n",
       "    }\n",
       "</style>\n",
       "<table border=\"1\" class=\"dataframe\">\n",
       "  <thead>\n",
       "    <tr style=\"text-align: right;\">\n",
       "      <th></th>\n",
       "      <th>total_amount</th>\n",
       "      <th>day</th>\n",
       "    </tr>\n",
       "  </thead>\n",
       "  <tbody>\n",
       "    <tr>\n",
       "      <th>1</th>\n",
       "      <td>24.36</td>\n",
       "      <td>1</td>\n",
       "    </tr>\n",
       "    <tr>\n",
       "      <th>2</th>\n",
       "      <td>15.34</td>\n",
       "      <td>1</td>\n",
       "    </tr>\n",
       "    <tr>\n",
       "      <th>3</th>\n",
       "      <td>25.05</td>\n",
       "      <td>1</td>\n",
       "    </tr>\n",
       "    <tr>\n",
       "      <th>4</th>\n",
       "      <td>11.30</td>\n",
       "      <td>1</td>\n",
       "    </tr>\n",
       "    <tr>\n",
       "      <th>5</th>\n",
       "      <td>14.80</td>\n",
       "      <td>1</td>\n",
       "    </tr>\n",
       "  </tbody>\n",
       "</table>\n",
       "</div>"
      ],
      "text/plain": [
       "   total_amount  day\n",
       "1         24.36    1\n",
       "2         15.34    1\n",
       "3         25.05    1\n",
       "4         11.30    1\n",
       "5         14.80    1"
      ]
     },
     "execution_count": 67,
     "metadata": {},
     "output_type": "execute_result"
    }
   ],
   "source": [
    "date_df.head()"
   ]
  },
  {
   "cell_type": "markdown",
   "metadata": {},
   "source": [
    "Посмотрим на графики суммы и среднего значения по цене с группировкой по дню месяца"
   ]
  },
  {
   "cell_type": "code",
   "execution_count": 69,
   "metadata": {},
   "outputs": [
    {
     "data": {
      "image/png": "[encoded data removed]",
      "text/plain": [
       "<Figure size 1152x432 with 2 Axes>"
      ]
     },
     "metadata": {},
     "output_type": "display_data"
    }
   ],
   "source": [
    "fig = plt.figure(figsize=(16,6))\n",
    "\n",
    "ax = plt.subplot(1,2,1)\n",
    "\n",
    "sns.lineplot(data=date_df.groupby('day').sum(), x='day', y='total_amount')\n",
    "plt.xlabel('Январь')\n",
    "plt.ylabel('Сумма')\n",
    "plt.title('Сумма')\n",
    "\n",
    "ax = plt.subplot(122)\n",
    "sns.lineplot(data=date_df.groupby('day').mean(), x='day', y='total_amount')\n",
    "plt.xlabel('Январь')\n",
    "plt.ylabel('Среднее значение за день')\n",
    "plt.title('Среднее значение')\n",
    "plt.show()"
   ]
  },
  {
   "cell_type": "markdown",
   "metadata": {},
   "source": [
    "# Выводы:\n",
    "\n",
    "- Графики суммы и среднего отличаются и оба информативные. Потому что только по сумме нельзя определить была ли акция или нет. Важно смотреть еще на среднее, т.е. на количество заказов. Например 1 января общая сумма одна из самых низких, но разделив сумму на кол-во заказов видим, что это абсолютно средний день по чеку.\n",
    "- На 2м графике мы видим явные просадки по средней сумме в день. Я бы отметил 18 - 20, 25 января как дни акций и скидок, так как средний чек в эти дни уменьшился.\n",
    "- Стоит отметить, что 18 - 20, 25 января не являются праздниками, но могут быть выходными днями (не все, но например 18 и 25 или только 20) что может влиять на спрос такси."
   ]
  }
 ],
 "metadata": {
  "kernelspec": {
   "display_name": "Python 3",
   "language": "python",
   "name": "python3"
  },
  "language_info": {
   "codemirror_mode": {
    "name": "ipython",
    "version": 3
   },
   "file_extension": ".py",
   "mimetype": "text/x-python",
   "name": "python",
   "nbconvert_exporter": "python",
   "pygments_lexer": "ipython3",
   "version": "3.8.1"
  }
 },
 "nbformat": 4,
 "nbformat_minor": 4
}
